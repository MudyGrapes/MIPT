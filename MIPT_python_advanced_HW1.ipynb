{
 "cells": [
  {
   "cell_type": "markdown",
   "id": "6abef577",
   "metadata": {},
   "source": [
    "    Проект \"Python Advanced. Функции. Домашнее задание (HW)\"\n",
    "ЗАДАЧА\n",
    "Для закрепления пройденного материала предлагаем вам следующее задание: используя библиотеку kaggle-environments, реализующую функционал взаимодействия между виртуальными агентами в рамках нескольких популярных игр, реализовать самостоятельно несколько агентов и сравнить их в игре «камень-ножницы-бумага».\n",
    "\n",
    "НЕОБХОДИМО:\n",
    "Описать поведение бота, который будет играть с такими же ботами в игру «камень-ножницы-бумага». Поведение бота описывается с помощью функции, которая принимает на вход информацию о прошлых играх. (сигнатура функции приведена в Google Colab, а детальное описание входящих значений доступно по ссылке)\n",
    "После описания поведения агентов запустить турнир между ними и проверить, какая стратегия показывает себя лучше всех.\n",
    "Отметим, что вам необязательно использовать «качественные» стратегии — в этом задании основной упор необходимо сделать на разнообразие (т.е. агенты, которые бы играли, придерживаясь стратегии «только камень» или »только ножницы» – это нормально)."
   ]
  },
  {
   "cell_type": "markdown",
   "id": "ffef0744",
   "metadata": {},
   "source": [
    "Установка kaggle_environments"
   ]
  },
  {
   "cell_type": "code",
   "execution_count": 1,
   "id": "71fc84db",
   "metadata": {},
   "outputs": [],
   "source": [
    "!pip install -q -U kaggle_environments"
   ]
  },
  {
   "cell_type": "markdown",
   "id": "989ed122",
   "metadata": {},
   "source": [
    "Импорт необходимых библиотек"
   ]
  },
  {
   "cell_type": "code",
   "execution_count": 2,
   "id": "830d8d73",
   "metadata": {},
   "outputs": [],
   "source": [
    "import kaggle_environments\n",
    "import numpy as np\n",
    "import pandas as pd\n",
    "\n",
    "import matplotlib.pyplot as plt\n",
    "import seaborn as sns\n",
    "from kaggle_environments import make, evaluate"
   ]
  },
  {
   "cell_type": "markdown",
   "id": "698b7f02",
   "metadata": {},
   "source": [
    "Создаем объект для проведения испытаний"
   ]
  },
  {
   "cell_type": "code",
   "execution_count": 3,
   "id": "b744e7b0",
   "metadata": {},
   "outputs": [],
   "source": [
    "env = make(\n",
    "    \"rps\",\n",
    "    configuration={\n",
    "        \"episodeSteps\": 100,\n",
    "    }\n",
    ")"
   ]
  },
  {
   "cell_type": "markdown",
   "id": "7e9de610",
   "metadata": {},
   "source": [
    "Пишем различных ботов в файлы .ру Описание ботов ниже"
   ]
  },
  {
   "cell_type": "code",
   "execution_count": 4,
   "id": "e284849a",
   "metadata": {},
   "outputs": [
    {
     "name": "stdout",
     "output_type": "stream",
     "text": [
      "Overwriting rock.py\n"
     ]
    }
   ],
   "source": [
    "%%writefile rock.py\n",
    "\n",
    "def rock(observation, configuration):\n",
    "    \"\"\"\n",
    "    Агент выбрасывет только камень\n",
    "    \"\"\"\n",
    "    return 0"
   ]
  },
  {
   "cell_type": "code",
   "execution_count": 5,
   "id": "0bd1cc0f",
   "metadata": {},
   "outputs": [
    {
     "name": "stdout",
     "output_type": "stream",
     "text": [
      "Overwriting paper.py\n"
     ]
    }
   ],
   "source": [
    "%%writefile paper.py\n",
    "\n",
    "def paper(observation, configuration):\n",
    "    \"\"\"\n",
    "    Агент выбрасывет только бумагу\n",
    "    \"\"\"\n",
    "    return 1"
   ]
  },
  {
   "cell_type": "code",
   "execution_count": 6,
   "id": "516f0c8b",
   "metadata": {},
   "outputs": [
    {
     "name": "stdout",
     "output_type": "stream",
     "text": [
      "Overwriting scissors.py\n"
     ]
    }
   ],
   "source": [
    "%%writefile scissors.py\n",
    "\n",
    "def scissors(observation, configuration):\n",
    "    \"\"\"\n",
    "    Агент выбрасывет только ножницы\n",
    "    \"\"\"\n",
    "    return 2"
   ]
  },
  {
   "cell_type": "code",
   "execution_count": 7,
   "id": "0033688b",
   "metadata": {},
   "outputs": [
    {
     "name": "stdout",
     "output_type": "stream",
     "text": [
      "Overwriting copy_opponent.py\n"
     ]
    }
   ],
   "source": [
    "%%writefile copy_opponent.py\n",
    "import random\n",
    "\n",
    "def copy_opponent(observation, configuration):\n",
    "    if observation.step > 0:\n",
    "        return observation.lastOpponentAction\n",
    "    else:\n",
    "        return random.randrange(0, configuration.signs)"
   ]
  },
  {
   "cell_type": "code",
   "execution_count": 8,
   "id": "65726fc4",
   "metadata": {},
   "outputs": [
    {
     "name": "stdout",
     "output_type": "stream",
     "text": [
      "Overwriting last_react.py\n"
     ]
    }
   ],
   "source": [
    "%%writefile last_react.py\n",
    "import random\n",
    "\n",
    "def last_react(observation, configuration):\n",
    "    \"\"\"\n",
    "    Агент выбрасывает знак, чтобы переиграть предыдыущий  ход соперника \n",
    "    \"\"\"\n",
    "    global last_react_action\n",
    "    if observation.step == 0:\n",
    "        last_react_action = random.randrange(0, configuration.signs)\n",
    "    else:\n",
    "        last_react_action = (observation.lastOpponentAction + 1) % configuration.signs\n",
    "\n",
    "    return last_react_action"
   ]
  },
  {
   "cell_type": "code",
   "execution_count": 9,
   "id": "270b9d06",
   "metadata": {},
   "outputs": [
    {
     "name": "stdout",
     "output_type": "stream",
     "text": [
      "Overwriting not_last.py\n"
     ]
    }
   ],
   "source": [
    "%%writefile not_last.py\n",
    "\n",
    "import random\n",
    "\n",
    "def not_last(observation, configuration):\n",
    "    \"\"\"\n",
    "    Агент выбрасывает случайный знак, отличный от своего предыдущего\n",
    "    \"\"\"\n",
    "    global last_react_action\n",
    "    if observation.step == 0:\n",
    "        last_react_action = random.randrange(0, configuration.signs)\n",
    "    else:\n",
    "        if last_react_action == 0:\n",
    "            last_react_action = random.randrange(0, 2) + 1\n",
    "        elif last_react_action == 1:\n",
    "            last_react_action = random.randrange(0, 2) * 2\n",
    "        else:\n",
    "            last_react_action = random.randrange(0, 2)\n",
    "        \n",
    "    return last_react_action"
   ]
  },
  {
   "cell_type": "code",
   "execution_count": 10,
   "id": "acf8a7ca",
   "metadata": {},
   "outputs": [
    {
     "name": "stdout",
     "output_type": "stream",
     "text": [
      "Overwriting often.py\n"
     ]
    }
   ],
   "source": [
    "%%writefile often.py\n",
    "\n",
    "action_histogram = {}\n",
    "\n",
    "def often(observation, configuration):\n",
    "    \"\"\"\n",
    "    Агент выбрасывает знак, чтобы переиграть наиболее частый знак оппонента\n",
    "    \"\"\"\n",
    "    global action_histogram\n",
    "    if observation.step == 0:\n",
    "        action_histogram = {}\n",
    "        return\n",
    "    action = observation.lastOpponentAction\n",
    "    if action not in action_histogram:\n",
    "        action_histogram[action] = 0\n",
    "    action_histogram[action] += 1\n",
    "    mode_action = None\n",
    "    mode_action_count = None\n",
    "    for k, v in action_histogram.items():\n",
    "        if mode_action_count is None or v > mode_action_count:\n",
    "            mode_action = k\n",
    "            mode_action_count = v\n",
    "            continue\n",
    "\n",
    "    return (mode_action + 1) % configuration.signs"
   ]
  },
  {
   "cell_type": "code",
   "execution_count": 11,
   "id": "169b695a",
   "metadata": {},
   "outputs": [
    {
     "name": "stdout",
     "output_type": "stream",
     "text": [
      "Overwriting random_agent.py\n"
     ]
    }
   ],
   "source": [
    "%%writefile random_agent.py\n",
    "\n",
    "import random\n",
    "\n",
    "def random_agent(observation, configuration):\n",
    "    \"\"\"\n",
    "    Агент выбрасывает случайный знак\n",
    "    \"\"\"\n",
    "    return random.randrange(0, configuration.signs)"
   ]
  },
  {
   "cell_type": "code",
   "execution_count": 12,
   "id": "0dd2fbd8",
   "metadata": {},
   "outputs": [
    {
     "name": "stdout",
     "output_type": "stream",
     "text": [
      "Overwriting same_until_lose.py\n"
     ]
    }
   ],
   "source": [
    "%%writefile same_until_lose.py\n",
    "import random\n",
    "from kaggle_environments.envs.rps.utils import get_score\n",
    "\n",
    "def same_until_lose(observation, configuration):\n",
    "    \"\"\"\n",
    "    Агент выбрасывает одинаковый знак, пока не проиграет. Затем меняет знак, чтобы выйграть предыдущий ход оппонента\n",
    "    \"\"\"\n",
    "    global last_react_action\n",
    "    if observation.step == 0:\n",
    "        last_react_action = random.randrange(0, configuration.signs)\n",
    "    else:\n",
    "        if get_score(last_react_action, observation.lastOpponentAction)==-1:\n",
    "            last_react_action = (last_react_action - 1) % configuration.signs\n",
    "    return last_react_action"
   ]
  },
  {
   "cell_type": "code",
   "execution_count": 13,
   "id": "ab7c5299",
   "metadata": {},
   "outputs": [
    {
     "name": "stdout",
     "output_type": "stream",
     "text": [
      "Overwriting not_rock.py\n"
     ]
    }
   ],
   "source": [
    "%%writefile not_rock.py\n",
    "\n",
    "import random\n",
    "\n",
    "def not_rock(observation, configuration):\n",
    "    \"\"\"\n",
    "    Агент выбрасывает случайный знак отличный от камня\n",
    "    \"\"\"\n",
    "    return random.randrange(0, 2) + 1"
   ]
  },
  {
   "cell_type": "code",
   "execution_count": 14,
   "id": "828eb1a3",
   "metadata": {},
   "outputs": [
    {
     "name": "stdout",
     "output_type": "stream",
     "text": [
      "Overwriting not_paper.py\n"
     ]
    }
   ],
   "source": [
    "%%writefile not_paper.py\n",
    "\n",
    "import random\n",
    "\n",
    "def not_paper(observation, configuration):\n",
    "    \"\"\"\n",
    "    Агент выбрасывает случайный знак отличный от бумаги\n",
    "    \"\"\"\n",
    "    return random.choice([0,2])"
   ]
  },
  {
   "cell_type": "code",
   "execution_count": 15,
   "id": "771f0190",
   "metadata": {},
   "outputs": [
    {
     "name": "stdout",
     "output_type": "stream",
     "text": [
      "Overwriting not_scissors.py\n"
     ]
    }
   ],
   "source": [
    "%%writefile not_scissors.py\n",
    "\n",
    "import random\n",
    "\n",
    "def not_scissors(observation, configuration):\n",
    "    \"\"\"\n",
    "    Агент выбрасывает случайный знак отличный от ножниц\n",
    "    \"\"\"\n",
    "    \n",
    "    return random.randrange(0, 2)"
   ]
  },
  {
   "cell_type": "code",
   "execution_count": 16,
   "id": "2e8a4172",
   "metadata": {},
   "outputs": [
    {
     "name": "stdout",
     "output_type": "stream",
     "text": [
      "Overwriting stupid_bot.py\n"
     ]
    }
   ],
   "source": [
    "%%writefile stupid_bot.py\n",
    "\n",
    "import random\n",
    "\n",
    "def stupid_bot(observation, configuration):\n",
    "    \"\"\"\n",
    "    Агент выбрасывает постоянный знак и редко его меняет случайно\n",
    "    \"\"\"\n",
    "    global last_react_action\n",
    "    if observation.step == 0:\n",
    "        last_react_action = random.randrange(0, configuration.signs)\n",
    "    if random.choice(list(range(10)))==1:\n",
    "        last_react_action = (last_react_action + 1) % 3\n",
    "    return last_react_action"
   ]
  },
  {
   "cell_type": "markdown",
   "id": "dd8b0685",
   "metadata": {},
   "source": [
    "Создаем массив для записи результатов испытаний ботов один на один"
   ]
  },
  {
   "cell_type": "code",
   "execution_count": 17,
   "id": "3a00908a",
   "metadata": {},
   "outputs": [],
   "source": [
    "list_names = [\n",
    "    \"rock\", \n",
    "    \"paper\", \n",
    "    \"scissors\",\n",
    "    \"copy_opponent\",  \n",
    "    \"last_react\", \n",
    "    \"not_last\",\n",
    "    \"often\",\n",
    "    \"random_agent\",\n",
    "    \"same_until_lose\",\n",
    "    \"not_rock\",\n",
    "    \"not_paper\",\n",
    "    \"not_scissors\",\n",
    "    \"stupid_bot\"\n",
    "]\n",
    "\n",
    "list_agents = [agent_name + \".py\" for agent_name in list_names]\n",
    "n_agents = len(list_names)\n",
    "scores = np.zeros((n_agents, n_agents), dtype=int)"
   ]
  },
  {
   "cell_type": "markdown",
   "id": "d0b790d9",
   "metadata": {},
   "source": [
    "Запускаем испытание и записываем в массив scores"
   ]
  },
  {
   "cell_type": "code",
   "execution_count": 18,
   "id": "6a003399",
   "metadata": {
    "scrolled": true
   },
   "outputs": [
    {
     "name": "stdout",
     "output_type": "stream",
     "text": [
      "Simulation of battles. It can take some time...\n",
      "LOG: rock vs stupid_botrsose\n",
      "LOG: paper vs stupid_botrsose\n",
      "LOG: scissors vs stupid_botrsose\n",
      "LOG: copy_opponent vs stupid_botrsose\n",
      "LOG: last_react vs stupid_botrsose\n",
      "LOG: not_last vs stupid_botrsose\n",
      "LOG: often vs stupid_botrsose\n",
      "LOG: random_agent vs stupid_botrsose\n",
      "LOG: same_until_lose vs stupid_botrs\n",
      "LOG: not_rock vs stupid_botrs\n",
      "LOG: not_paper vs stupid_botrs\n",
      "LOG: not_scissors vs stupid_bot\n",
      "\n"
     ]
    }
   ],
   "source": [
    "print(\"Simulation of battles. It can take some time...\")\n",
    "\n",
    "for ind_agent_1 in range(len(list_names)):\n",
    "    for ind_agent_2 in range(ind_agent_1 + 1, len(list_names)):\n",
    "        print(\n",
    "            f\"LOG: {list_names[ind_agent_1]} vs {list_names[ind_agent_2]}\", \n",
    "            end=\"\\r\"\n",
    "        )\n",
    "        \n",
    "        current_score = evaluate(\n",
    "            \"rps\", \n",
    "            [list_agents[ind_agent_1], list_agents[ind_agent_2]], \n",
    "            configuration={\"episodeSteps\": 1000}\n",
    "        )\n",
    "        \n",
    "        scores[ind_agent_1, ind_agent_2] = current_score[0][0]\n",
    "        scores[ind_agent_2, ind_agent_1] = current_score[0][1]\n",
    "    \n",
    "    print()"
   ]
  },
  {
   "cell_type": "markdown",
   "id": "10759c26",
   "metadata": {},
   "source": [
    "Отрисовываем результаты испытаний"
   ]
  },
  {
   "cell_type": "code",
   "execution_count": 20,
   "id": "a82e9c39",
   "metadata": {
    "scrolled": true
   },
   "outputs": [
    {
     "data": {
      "image/png": "[encoded data removed]",
      "text/plain": [
       "<Figure size 648x648 with 1 Axes>"
      ]
     },
     "metadata": {
      "needs_background": "light"
     },
     "output_type": "display_data"
    }
   ],
   "source": [
    "df_scores = pd.DataFrame(\n",
    "    scores, \n",
    "    index=list_names, \n",
    "    columns=list_names,\n",
    ")\n",
    "\n",
    "\n",
    "plt.figure(figsize=(9, 9))\n",
    "sns.heatmap(\n",
    "    df_scores, annot=True, cbar=False, \n",
    "    cmap='coolwarm', linewidths=1, \n",
    "    linecolor='black', fmt=\"d\",\n",
    ")\n",
    "plt.xticks(rotation=90, fontsize=15)\n",
    "plt.yticks(fontsize=15);"
   ]
  },
  {
   "cell_type": "markdown",
   "id": "55bb5617",
   "metadata": {},
   "source": [
    "Вывод: из тепловой диаграммы выше видно, что наиболее успешными являются агенты last_react, often, same_until_lose. Наименее удачными простейшие rock, paper, scissors."
   ]
  },
  {
   "cell_type": "code",
   "execution_count": null,
   "id": "254ab0be",
   "metadata": {},
   "outputs": [],
   "source": []
  }
 ],
 "metadata": {
  "kernelspec": {
   "display_name": "Python 3",
   "language": "python",
   "name": "python3"
  },
  "language_info": {
   "codemirror_mode": {
    "name": "ipython",
    "version": 3
   },
   "file_extension": ".py",
   "mimetype": "text/x-python",
   "name": "python",
   "nbconvert_exporter": "python",
   "pygments_lexer": "ipython3",
   "version": "3.8.8"
  }
 },
 "nbformat": 4,
 "nbformat_minor": 5
}
