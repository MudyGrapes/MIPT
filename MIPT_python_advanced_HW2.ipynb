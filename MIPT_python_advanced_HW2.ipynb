{
 "cells": [
  {
   "cell_type": "markdown",
   "id": "e5790d05",
   "metadata": {},
   "source": [
    "\n",
    "***\n",
    "В приложенных файлах вы увидите данные по прохождению студентами тестов на образовательной платформе. Такие данные могут быть использованы для построения персонализированных ИИ-ассистентов для поддержки обучения студента. На текущем этапе сосредоточимся на начальном этапе — сборе и подготовке данных.\n",
    "***\n",
    "Используя библиотеку pandas (или аналоги), проанализировать как можно больше характеристик, влияющих на успеваемость студентов.\n",
    "***\n",
    "#### TRAIN.CSV\n",
    "* row_id: (int64) ID code for the row.\n",
    "* timestamp: (int64) the time in milliseconds between this user interaction and the first event completion from that user.\n",
    "* user_id: (int32) ID code for the user.\n",
    "* content_id: (int16) ID code for the user interaction\n",
    "* content_type_id: (int8) 0 if the event was a question being posed to the user, 1 if the event was the user watching a lecture.\n",
    "* task_container_id: (int16) Id code for the batch of questions or lectures. For example, a user might see three questions in a row before seeing the explanations for any of them. Those three would all share a task_container_id.\n",
    "* user_answer: (int8) the user's answer to the question, if any. Read -1 as null, for lectures.\n",
    "* answered_correctly: (int8) if the user responded correctly. Read -1 as null, for lectures.\n",
    "* prior_question_elapsed_time: (float32) The average time in milliseconds it took a user to answer each question in the previous question bundle, ignoring any lectures in between. Is null for a user's first question bundle or lecture. Note that the time is the average time a user took to solve each question in the previous bundle.\n",
    "* prior_question_had_explanation: (bool) Whether or not the user saw an explanation and the correct response(s) after answering the previous question bundle, ignoring any lectures in between. The value is shared across a single question bundle, and is null for a user's first question bundle or lecture. Typically the first several questions a user sees were part of an onboarding diagnostic test where they did not get any feedback.\n",
    "\n",
    "#### QUESTIONS.CSV: METADATA FOR THE QUESTIONS POSED TO USERS.\n",
    "* question_id: foreign key for the train/test content_id column, when the content type is question (0).\n",
    "* bundle_id: code for which questions are served together.\n",
    "* correct_answer: the answer to the question. Can be compared with the train user_answer column to check if the user was right.\n",
    "* part: the relevant section of the TOEIC test.\n",
    "* tags: one or more detailed tag codes for the question. The meaning of the tags will not be provided, but these codes are sufficient for clustering the questions together.\n",
    "\n",
    "#### LECTURES.CSV: METADATA FOR THE LECTURES WATCHED BY USERS AS THEY PROGRESS IN THEIR EDUCATION.\n",
    "* lecture_id: foreign key for the train/test content_id column, when the content type is lecture (1).\n",
    "* part: top level category code for the lecture.\n",
    "* tag: one tag codes for the lecture. The meaning of the tags will not be provided, but these codes are sufficient for clustering the lectures together.\n",
    "* type_of: brief description of the core purpose of the lecture."
   ]
  },
  {
   "cell_type": "markdown",
   "id": "707eed88",
   "metadata": {},
   "source": [
    "### Импортируем необходимые библиотеки"
   ]
  },
  {
   "cell_type": "code",
   "execution_count": 1,
   "id": "531938ad",
   "metadata": {},
   "outputs": [],
   "source": [
    "import pandas as pd\n",
    "import random\n",
    "import matplotlib.pyplot as plt"
   ]
  },
  {
   "cell_type": "markdown",
   "id": "4d372c51",
   "metadata": {},
   "source": [
    "### Исследуем датасет `train.csv`"
   ]
  },
  {
   "cell_type": "markdown",
   "id": "06cadb7e",
   "metadata": {},
   "source": [
    "Файл `train.csv` весит 5.7 ГБ. Не каждая машина потянет работу с таким файлом, воможно переполнение памяти. Проверим сколько строк в файле (столбцы нам известны из описания)"
   ]
  },
  {
   "cell_type": "code",
   "execution_count": 2,
   "id": "6f3e95b0",
   "metadata": {},
   "outputs": [
    {
     "data": {
      "text/plain": [
       "101230333"
      ]
     },
     "execution_count": 2,
     "metadata": {},
     "output_type": "execute_result"
    }
   ],
   "source": [
    "with open('data/train.csv') as f:\n",
    "    total_rows = sum(1 for line in f)\n",
    "total_rows"
   ]
  },
  {
   "cell_type": "markdown",
   "id": "34a4e3a4",
   "metadata": {},
   "source": [
    "101 млн строк. Для дальнейшей работы возьмем 1 млн первых случайных строк из файла, чтобы не испытывать проблем с переполнением памяти"
   ]
  },
  {
   "cell_type": "code",
   "execution_count": 3,
   "id": "99de832e",
   "metadata": {},
   "outputs": [],
   "source": [
    "train_data = pd.read_csv('data/train.csv', nrows=1_000_000)"
   ]
  },
  {
   "cell_type": "code",
   "execution_count": 4,
   "id": "f6ffdfd7",
   "metadata": {},
   "outputs": [],
   "source": [
    "train_df = train_data.copy()"
   ]
  },
  {
   "cell_type": "code",
   "execution_count": 5,
   "id": "abd72337",
   "metadata": {
    "scrolled": false
   },
   "outputs": [
    {
     "data": {
      "text/html": [
       "<div>\n",
       "<style scoped>\n",
       "    .dataframe tbody tr th:only-of-type {\n",
       "        vertical-align: middle;\n",
       "    }\n",
       "\n",
       "    .dataframe tbody tr th {\n",
       "        vertical-align: top;\n",
       "    }\n",
       "\n",
       "    .dataframe thead th {\n",
       "        text-align: right;\n",
       "    }\n",
       "</style>\n",
       "<table border=\"1\" class=\"dataframe\">\n",
       "  <thead>\n",
       "    <tr style=\"text-align: right;\">\n",
       "      <th></th>\n",
       "      <th>row_id</th>\n",
       "      <th>timestamp</th>\n",
       "      <th>user_id</th>\n",
       "      <th>content_id</th>\n",
       "      <th>content_type_id</th>\n",
       "      <th>task_container_id</th>\n",
       "      <th>user_answer</th>\n",
       "      <th>answered_correctly</th>\n",
       "      <th>prior_question_elapsed_time</th>\n",
       "      <th>prior_question_had_explanation</th>\n",
       "    </tr>\n",
       "  </thead>\n",
       "  <tbody>\n",
       "    <tr>\n",
       "      <th>0</th>\n",
       "      <td>0</td>\n",
       "      <td>0</td>\n",
       "      <td>115</td>\n",
       "      <td>5692</td>\n",
       "      <td>0</td>\n",
       "      <td>1</td>\n",
       "      <td>3</td>\n",
       "      <td>1</td>\n",
       "      <td>NaN</td>\n",
       "      <td>NaN</td>\n",
       "    </tr>\n",
       "    <tr>\n",
       "      <th>1</th>\n",
       "      <td>1</td>\n",
       "      <td>56943</td>\n",
       "      <td>115</td>\n",
       "      <td>5716</td>\n",
       "      <td>0</td>\n",
       "      <td>2</td>\n",
       "      <td>2</td>\n",
       "      <td>1</td>\n",
       "      <td>37000.0</td>\n",
       "      <td>False</td>\n",
       "    </tr>\n",
       "    <tr>\n",
       "      <th>2</th>\n",
       "      <td>2</td>\n",
       "      <td>118363</td>\n",
       "      <td>115</td>\n",
       "      <td>128</td>\n",
       "      <td>0</td>\n",
       "      <td>0</td>\n",
       "      <td>0</td>\n",
       "      <td>1</td>\n",
       "      <td>55000.0</td>\n",
       "      <td>False</td>\n",
       "    </tr>\n",
       "    <tr>\n",
       "      <th>3</th>\n",
       "      <td>3</td>\n",
       "      <td>131167</td>\n",
       "      <td>115</td>\n",
       "      <td>7860</td>\n",
       "      <td>0</td>\n",
       "      <td>3</td>\n",
       "      <td>0</td>\n",
       "      <td>1</td>\n",
       "      <td>19000.0</td>\n",
       "      <td>False</td>\n",
       "    </tr>\n",
       "    <tr>\n",
       "      <th>4</th>\n",
       "      <td>4</td>\n",
       "      <td>137965</td>\n",
       "      <td>115</td>\n",
       "      <td>7922</td>\n",
       "      <td>0</td>\n",
       "      <td>4</td>\n",
       "      <td>1</td>\n",
       "      <td>1</td>\n",
       "      <td>11000.0</td>\n",
       "      <td>False</td>\n",
       "    </tr>\n",
       "    <tr>\n",
       "      <th>...</th>\n",
       "      <td>...</td>\n",
       "      <td>...</td>\n",
       "      <td>...</td>\n",
       "      <td>...</td>\n",
       "      <td>...</td>\n",
       "      <td>...</td>\n",
       "      <td>...</td>\n",
       "      <td>...</td>\n",
       "      <td>...</td>\n",
       "      <td>...</td>\n",
       "    </tr>\n",
       "    <tr>\n",
       "      <th>999995</th>\n",
       "      <td>999995</td>\n",
       "      <td>26482248</td>\n",
       "      <td>20949024</td>\n",
       "      <td>8803</td>\n",
       "      <td>0</td>\n",
       "      <td>29</td>\n",
       "      <td>1</td>\n",
       "      <td>1</td>\n",
       "      <td>14000.0</td>\n",
       "      <td>True</td>\n",
       "    </tr>\n",
       "    <tr>\n",
       "      <th>999996</th>\n",
       "      <td>999996</td>\n",
       "      <td>26516686</td>\n",
       "      <td>20949024</td>\n",
       "      <td>4664</td>\n",
       "      <td>0</td>\n",
       "      <td>30</td>\n",
       "      <td>3</td>\n",
       "      <td>1</td>\n",
       "      <td>17000.0</td>\n",
       "      <td>True</td>\n",
       "    </tr>\n",
       "    <tr>\n",
       "      <th>999997</th>\n",
       "      <td>999997</td>\n",
       "      <td>26537967</td>\n",
       "      <td>20949024</td>\n",
       "      <td>4108</td>\n",
       "      <td>0</td>\n",
       "      <td>31</td>\n",
       "      <td>1</td>\n",
       "      <td>0</td>\n",
       "      <td>18000.0</td>\n",
       "      <td>True</td>\n",
       "    </tr>\n",
       "    <tr>\n",
       "      <th>999998</th>\n",
       "      <td>999998</td>\n",
       "      <td>26590240</td>\n",
       "      <td>20949024</td>\n",
       "      <td>5014</td>\n",
       "      <td>0</td>\n",
       "      <td>32</td>\n",
       "      <td>3</td>\n",
       "      <td>0</td>\n",
       "      <td>6000.0</td>\n",
       "      <td>True</td>\n",
       "    </tr>\n",
       "    <tr>\n",
       "      <th>999999</th>\n",
       "      <td>999999</td>\n",
       "      <td>26605316</td>\n",
       "      <td>20949024</td>\n",
       "      <td>9828</td>\n",
       "      <td>0</td>\n",
       "      <td>33</td>\n",
       "      <td>0</td>\n",
       "      <td>0</td>\n",
       "      <td>46000.0</td>\n",
       "      <td>True</td>\n",
       "    </tr>\n",
       "  </tbody>\n",
       "</table>\n",
       "<p>1000000 rows × 10 columns</p>\n",
       "</div>"
      ],
      "text/plain": [
       "        row_id  timestamp   user_id  content_id  content_type_id  \\\n",
       "0            0          0       115        5692                0   \n",
       "1            1      56943       115        5716                0   \n",
       "2            2     118363       115         128                0   \n",
       "3            3     131167       115        7860                0   \n",
       "4            4     137965       115        7922                0   \n",
       "...        ...        ...       ...         ...              ...   \n",
       "999995  999995   26482248  20949024        8803                0   \n",
       "999996  999996   26516686  20949024        4664                0   \n",
       "999997  999997   26537967  20949024        4108                0   \n",
       "999998  999998   26590240  20949024        5014                0   \n",
       "999999  999999   26605316  20949024        9828                0   \n",
       "\n",
       "        task_container_id  user_answer  answered_correctly  \\\n",
       "0                       1            3                   1   \n",
       "1                       2            2                   1   \n",
       "2                       0            0                   1   \n",
       "3                       3            0                   1   \n",
       "4                       4            1                   1   \n",
       "...                   ...          ...                 ...   \n",
       "999995                 29            1                   1   \n",
       "999996                 30            3                   1   \n",
       "999997                 31            1                   0   \n",
       "999998                 32            3                   0   \n",
       "999999                 33            0                   0   \n",
       "\n",
       "        prior_question_elapsed_time prior_question_had_explanation  \n",
       "0                               NaN                            NaN  \n",
       "1                           37000.0                          False  \n",
       "2                           55000.0                          False  \n",
       "3                           19000.0                          False  \n",
       "4                           11000.0                          False  \n",
       "...                             ...                            ...  \n",
       "999995                      14000.0                           True  \n",
       "999996                      17000.0                           True  \n",
       "999997                      18000.0                           True  \n",
       "999998                       6000.0                           True  \n",
       "999999                      46000.0                           True  \n",
       "\n",
       "[1000000 rows x 10 columns]"
      ]
     },
     "metadata": {},
     "output_type": "display_data"
    },
    {
     "data": {
      "text/html": [
       "<div>\n",
       "<style scoped>\n",
       "    .dataframe tbody tr th:only-of-type {\n",
       "        vertical-align: middle;\n",
       "    }\n",
       "\n",
       "    .dataframe tbody tr th {\n",
       "        vertical-align: top;\n",
       "    }\n",
       "\n",
       "    .dataframe thead th {\n",
       "        text-align: right;\n",
       "    }\n",
       "</style>\n",
       "<table border=\"1\" class=\"dataframe\">\n",
       "  <thead>\n",
       "    <tr style=\"text-align: right;\">\n",
       "      <th></th>\n",
       "      <th>row_id</th>\n",
       "      <th>timestamp</th>\n",
       "      <th>user_id</th>\n",
       "      <th>content_id</th>\n",
       "      <th>content_type_id</th>\n",
       "      <th>task_container_id</th>\n",
       "      <th>user_answer</th>\n",
       "      <th>answered_correctly</th>\n",
       "      <th>prior_question_elapsed_time</th>\n",
       "    </tr>\n",
       "  </thead>\n",
       "  <tbody>\n",
       "    <tr>\n",
       "      <th>count</th>\n",
       "      <td>1000000.000000</td>\n",
       "      <td>1.000000e+06</td>\n",
       "      <td>1.000000e+06</td>\n",
       "      <td>1000000.000000</td>\n",
       "      <td>1000000.000000</td>\n",
       "      <td>1000000.000000</td>\n",
       "      <td>1000000.000000</td>\n",
       "      <td>1000000.000000</td>\n",
       "      <td>976277.000000</td>\n",
       "    </tr>\n",
       "    <tr>\n",
       "      <th>mean</th>\n",
       "      <td>499999.500000</td>\n",
       "      <td>7.344311e+09</td>\n",
       "      <td>1.017255e+07</td>\n",
       "      <td>5232.691523</td>\n",
       "      <td>0.019907</td>\n",
       "      <td>806.105689</td>\n",
       "      <td>1.374784</td>\n",
       "      <td>0.617504</td>\n",
       "      <td>25302.962693</td>\n",
       "    </tr>\n",
       "    <tr>\n",
       "      <th>std</th>\n",
       "      <td>288675.278933</td>\n",
       "      <td>1.058693e+10</td>\n",
       "      <td>6.029234e+06</td>\n",
       "      <td>3882.323419</td>\n",
       "      <td>0.139681</td>\n",
       "      <td>1025.887530</td>\n",
       "      <td>1.194168</td>\n",
       "      <td>0.525364</td>\n",
       "      <td>19710.310227</td>\n",
       "    </tr>\n",
       "    <tr>\n",
       "      <th>min</th>\n",
       "      <td>0.000000</td>\n",
       "      <td>0.000000e+00</td>\n",
       "      <td>1.150000e+02</td>\n",
       "      <td>0.000000</td>\n",
       "      <td>0.000000</td>\n",
       "      <td>0.000000</td>\n",
       "      <td>-1.000000</td>\n",
       "      <td>-1.000000</td>\n",
       "      <td>0.000000</td>\n",
       "    </tr>\n",
       "    <tr>\n",
       "      <th>25%</th>\n",
       "      <td>249999.750000</td>\n",
       "      <td>5.211669e+08</td>\n",
       "      <td>4.702585e+06</td>\n",
       "      <td>2057.000000</td>\n",
       "      <td>0.000000</td>\n",
       "      <td>109.000000</td>\n",
       "      <td>0.000000</td>\n",
       "      <td>0.000000</td>\n",
       "      <td>16000.000000</td>\n",
       "    </tr>\n",
       "    <tr>\n",
       "      <th>50%</th>\n",
       "      <td>499999.500000</td>\n",
       "      <td>2.824811e+09</td>\n",
       "      <td>9.678259e+06</td>\n",
       "      <td>5052.000000</td>\n",
       "      <td>0.000000</td>\n",
       "      <td>391.000000</td>\n",
       "      <td>1.000000</td>\n",
       "      <td>1.000000</td>\n",
       "      <td>21000.000000</td>\n",
       "    </tr>\n",
       "    <tr>\n",
       "      <th>75%</th>\n",
       "      <td>749999.250000</td>\n",
       "      <td>1.010186e+10</td>\n",
       "      <td>1.556872e+07</td>\n",
       "      <td>7421.000000</td>\n",
       "      <td>0.000000</td>\n",
       "      <td>1112.000000</td>\n",
       "      <td>3.000000</td>\n",
       "      <td>1.000000</td>\n",
       "      <td>29666.000000</td>\n",
       "    </tr>\n",
       "    <tr>\n",
       "      <th>max</th>\n",
       "      <td>999999.000000</td>\n",
       "      <td>7.809200e+10</td>\n",
       "      <td>2.094902e+07</td>\n",
       "      <td>32736.000000</td>\n",
       "      <td>1.000000</td>\n",
       "      <td>7739.000000</td>\n",
       "      <td>3.000000</td>\n",
       "      <td>1.000000</td>\n",
       "      <td>300000.000000</td>\n",
       "    </tr>\n",
       "  </tbody>\n",
       "</table>\n",
       "</div>"
      ],
      "text/plain": [
       "               row_id     timestamp       user_id      content_id  \\\n",
       "count  1000000.000000  1.000000e+06  1.000000e+06  1000000.000000   \n",
       "mean    499999.500000  7.344311e+09  1.017255e+07     5232.691523   \n",
       "std     288675.278933  1.058693e+10  6.029234e+06     3882.323419   \n",
       "min          0.000000  0.000000e+00  1.150000e+02        0.000000   \n",
       "25%     249999.750000  5.211669e+08  4.702585e+06     2057.000000   \n",
       "50%     499999.500000  2.824811e+09  9.678259e+06     5052.000000   \n",
       "75%     749999.250000  1.010186e+10  1.556872e+07     7421.000000   \n",
       "max     999999.000000  7.809200e+10  2.094902e+07    32736.000000   \n",
       "\n",
       "       content_type_id  task_container_id     user_answer  answered_correctly  \\\n",
       "count   1000000.000000     1000000.000000  1000000.000000      1000000.000000   \n",
       "mean          0.019907         806.105689        1.374784            0.617504   \n",
       "std           0.139681        1025.887530        1.194168            0.525364   \n",
       "min           0.000000           0.000000       -1.000000           -1.000000   \n",
       "25%           0.000000         109.000000        0.000000            0.000000   \n",
       "50%           0.000000         391.000000        1.000000            1.000000   \n",
       "75%           0.000000        1112.000000        3.000000            1.000000   \n",
       "max           1.000000        7739.000000        3.000000            1.000000   \n",
       "\n",
       "       prior_question_elapsed_time  \n",
       "count                976277.000000  \n",
       "mean                  25302.962693  \n",
       "std                   19710.310227  \n",
       "min                       0.000000  \n",
       "25%                   16000.000000  \n",
       "50%                   21000.000000  \n",
       "75%                   29666.000000  \n",
       "max                  300000.000000  "
      ]
     },
     "metadata": {},
     "output_type": "display_data"
    },
    {
     "name": "stdout",
     "output_type": "stream",
     "text": [
      "<class 'pandas.core.frame.DataFrame'>\n",
      "RangeIndex: 1000000 entries, 0 to 999999\n",
      "Data columns (total 10 columns):\n",
      " #   Column                          Non-Null Count    Dtype  \n",
      "---  ------                          --------------    -----  \n",
      " 0   row_id                          1000000 non-null  int64  \n",
      " 1   timestamp                       1000000 non-null  int64  \n",
      " 2   user_id                         1000000 non-null  int64  \n",
      " 3   content_id                      1000000 non-null  int64  \n",
      " 4   content_type_id                 1000000 non-null  int64  \n",
      " 5   task_container_id               1000000 non-null  int64  \n",
      " 6   user_answer                     1000000 non-null  int64  \n",
      " 7   answered_correctly              1000000 non-null  int64  \n",
      " 8   prior_question_elapsed_time     976277 non-null   float64\n",
      " 9   prior_question_had_explanation  996184 non-null   object \n",
      "dtypes: float64(1), int64(8), object(1)\n",
      "memory usage: 76.3+ MB\n"
     ]
    }
   ],
   "source": [
    "display(train_df)\n",
    "display(train_df.describe())\n",
    "train_df.info()"
   ]
  },
  {
   "cell_type": "markdown",
   "id": "6711e245",
   "metadata": {},
   "source": [
    "#### После беглого анализа можно сделать первые выводы:\n",
    "   1. Датасет для работы: 1_000_000 строк, 10 столбцов\n",
    "   2. Стобец `row_id` не несет никакого смысла (порядковый номер строки). Его нужно дропнуть\n",
    "   3. Необходимо изменить типы данных столбцов согласно описания. Столбцы с `-1` перевести в категорийный тип, чтобы не потерять `-1`.\n",
    "   4. В столбцах `user_answer` и `answered_correctly` значение `-1` относится к лекции, а не к вопросу. Следовательно эти строки не про успеваемость.\n",
    "   5. Имеются пропуски в столбцах `prior_question_elapsed_time` `prior_question_had_explanation`. Судя по описанию, пропуски в этих столбцах указывают, что это на первый набор вопросов для вводного тестирования. Пропусков менее 5%. Возможно пропуски связаны с лекциями по `content_type_id`\n",
    "   6. `prior_question_elapsed_time` можно перевести в int, т.к. значение в милисекундах. Первый квартиль 16000 млсек, влияние чисел после зпятой незначительно. Также можно проверить, есть ли нецелые значения. Либо как изменятся квартили после замены типа."
   ]
  },
  {
   "cell_type": "code",
   "execution_count": 6,
   "id": "499c9baf",
   "metadata": {},
   "outputs": [],
   "source": [
    "# drop 'row_id'\n",
    "train_df.drop('row_id', inplace=True, axis=1)\n",
    "# change columns types\n",
    "train_df['user_id'] = train_df['user_id'].astype('int32')\n",
    "train_df['content_id'] = train_df['content_id'].astype('int16')\n",
    "train_df['content_type_id'] = train_df['content_type_id'].astype('category') #int8\n",
    "train_df['task_container_id'] = train_df['task_container_id'].astype('int16')\n",
    "train_df['user_answer'] = train_df['user_answer'].astype('category') #int8\n",
    "train_df['answered_correctly'] = train_df['answered_correctly'].astype('int8') #int8"
   ]
  },
  {
   "cell_type": "code",
   "execution_count": 7,
   "id": "c58f6790",
   "metadata": {
    "scrolled": true
   },
   "outputs": [
    {
     "name": "stdout",
     "output_type": "stream",
     "text": [
      "<class 'pandas.core.frame.DataFrame'>\n",
      "RangeIndex: 1000000 entries, 0 to 999999\n",
      "Data columns (total 9 columns):\n",
      " #   Column                          Non-Null Count    Dtype   \n",
      "---  ------                          --------------    -----   \n",
      " 0   timestamp                       1000000 non-null  int64   \n",
      " 1   user_id                         1000000 non-null  int32   \n",
      " 2   content_id                      1000000 non-null  int16   \n",
      " 3   content_type_id                 1000000 non-null  category\n",
      " 4   task_container_id               1000000 non-null  int16   \n",
      " 5   user_answer                     1000000 non-null  category\n",
      " 6   answered_correctly              1000000 non-null  int8    \n",
      " 7   prior_question_elapsed_time     976277 non-null   float64 \n",
      " 8   prior_question_had_explanation  996184 non-null   object  \n",
      "dtypes: category(2), float64(1), int16(2), int32(1), int64(1), int8(1), object(1)\n",
      "memory usage: 33.4+ MB\n"
     ]
    }
   ],
   "source": [
    "train_df.info()"
   ]
  },
  {
   "cell_type": "markdown",
   "id": "e3aec6a3",
   "metadata": {},
   "source": [
    "После приведения типов объем памяти для датасета сократился более два раза. Для 101 млн строк - очень полезно"
   ]
  },
  {
   "cell_type": "code",
   "execution_count": 8,
   "id": "696f4858",
   "metadata": {
    "scrolled": true
   },
   "outputs": [
    {
     "data": {
      "text/plain": [
       "6116     2041\n",
       "6173     1978\n",
       "4120     1924\n",
       "175      1877\n",
       "7876     1847\n",
       "         ... \n",
       "12442       1\n",
       "13129       1\n",
       "12954       1\n",
       "12617       1\n",
       "12528       1\n",
       "Name: content_id, Length: 13320, dtype: int64"
      ]
     },
     "execution_count": 8,
     "metadata": {},
     "output_type": "execute_result"
    }
   ],
   "source": [
    "train_df['content_id'].value_counts()"
   ]
  },
  {
   "cell_type": "markdown",
   "id": "be007f34",
   "metadata": {},
   "source": [
    "13320 уникальных пользовательских взаимодействий. "
   ]
  },
  {
   "cell_type": "code",
   "execution_count": 9,
   "id": "bb3e13df",
   "metadata": {},
   "outputs": [
    {
     "data": {
      "text/plain": [
       "0    980093\n",
       "1     19907\n",
       "Name: content_type_id, dtype: int64"
      ]
     },
     "execution_count": 9,
     "metadata": {},
     "output_type": "execute_result"
    }
   ],
   "source": [
    "train_df['content_type_id'].value_counts()"
   ]
  },
  {
   "cell_type": "markdown",
   "id": "58bc5f97",
   "metadata": {},
   "source": [
    "Из описания 0 - это вопрос, 1 - лекция. Лекций гораздо меньше вопросов, всего 2% от всего контента"
   ]
  },
  {
   "cell_type": "code",
   "execution_count": 10,
   "id": "411c27d3",
   "metadata": {},
   "outputs": [
    {
     "data": {
      "text/plain": [
       "0     278205\n",
       "1     267017\n",
       "3     257932\n",
       "2     176939\n",
       "-1     19907\n",
       "Name: user_answer, dtype: int64"
      ]
     },
     "execution_count": 10,
     "metadata": {},
     "output_type": "execute_result"
    }
   ],
   "source": [
    "train_df['user_answer'].value_counts()"
   ]
  },
  {
   "cell_type": "markdown",
   "id": "28c1cd9c",
   "metadata": {},
   "source": [
    "В тестах возможно всего 4 варианта ответа"
   ]
  },
  {
   "cell_type": "code",
   "execution_count": 11,
   "id": "cd246602",
   "metadata": {
    "scrolled": true
   },
   "outputs": [
    {
     "data": {
      "text/plain": [
       " 1    0.637411\n",
       " 0    0.342682\n",
       "-1    0.019907\n",
       "Name: answered_correctly, dtype: float64"
      ]
     },
     "execution_count": 11,
     "metadata": {},
     "output_type": "execute_result"
    }
   ],
   "source": [
    "train_df['answered_correctly'].value_counts(normalize=True)"
   ]
  },
  {
   "cell_type": "markdown",
   "id": "ac4b525f",
   "metadata": {},
   "source": [
    "Около 60% ответов правильные."
   ]
  },
  {
   "cell_type": "markdown",
   "id": "8737613d",
   "metadata": {},
   "source": [
    "Перед тем как избавиться от пустых значений в двух последних колонках сохраним строки c лекциями в отдельном датасете, т.к. nan в столбце `prior_question_elapsed_time` относится к лекциям"
   ]
  },
  {
   "cell_type": "code",
   "execution_count": 12,
   "id": "9b9a380d",
   "metadata": {
    "scrolled": false
   },
   "outputs": [
    {
     "name": "stdout",
     "output_type": "stream",
     "text": [
      "<class 'pandas.core.frame.DataFrame'>\n",
      "Int64Index: 19907 entries, 89 to 999859\n",
      "Data columns (total 9 columns):\n",
      " #   Column                          Non-Null Count  Dtype   \n",
      "---  ------                          --------------  -----   \n",
      " 0   timestamp                       19907 non-null  int64   \n",
      " 1   user_id                         19907 non-null  int32   \n",
      " 2   content_id                      19907 non-null  int16   \n",
      " 3   content_type_id                 19907 non-null  category\n",
      " 4   task_container_id               19907 non-null  int16   \n",
      " 5   user_answer                     19907 non-null  category\n",
      " 6   answered_correctly              19907 non-null  int8    \n",
      " 7   prior_question_elapsed_time     0 non-null      float64 \n",
      " 8   prior_question_had_explanation  19907 non-null  object  \n",
      "dtypes: category(2), float64(1), int16(2), int32(1), int64(1), int8(1), object(1)\n",
      "memory usage: 836.3+ KB\n"
     ]
    }
   ],
   "source": [
    "train_lectures_df = train_df[train_df['content_type_id']==1]\n",
    "train_lectures_df.info()"
   ]
  },
  {
   "cell_type": "markdown",
   "id": "4f4a36e2",
   "metadata": {},
   "source": [
    "19907 - пропусков в `prior_question_elapsed_time` связаны с лекциями, значит отстальные 3816 связаны с первыми группами вопросов. Теперь можно избавиться от пропусков а после перевести `prior_question_had_explanation` в _bool_"
   ]
  },
  {
   "cell_type": "code",
   "execution_count": 13,
   "id": "4faf9e92",
   "metadata": {},
   "outputs": [],
   "source": [
    "train_df.dropna(subset=['prior_question_elapsed_time', 'prior_question_had_explanation'], inplace=True)\n",
    "train_df['prior_question_had_explanation'] = train_df['prior_question_had_explanation'].astype('bool') #int8"
   ]
  },
  {
   "cell_type": "markdown",
   "id": "bd823b73",
   "metadata": {},
   "source": [
    "Проверим можно ли привести столбец `prior_question_had_explanation` к целочисленному значению"
   ]
  },
  {
   "cell_type": "code",
   "execution_count": 14,
   "id": "99c252f9",
   "metadata": {
    "scrolled": true
   },
   "outputs": [
    {
     "data": {
      "text/plain": [
       "0"
      ]
     },
     "execution_count": 14,
     "metadata": {},
     "output_type": "execute_result"
    }
   ],
   "source": [
    "prior_question_had_explanation_is_float = train_df['prior_question_elapsed_time'].apply(lambda x: True if x-int(x)>0 else False)\n",
    "prior_question_had_explanation_is_float.sum()"
   ]
  },
  {
   "cell_type": "markdown",
   "id": "294fb444",
   "metadata": {},
   "source": [
    "В `prior_question_had_explanation` нет цифр после запятой -> переводим в int"
   ]
  },
  {
   "cell_type": "code",
   "execution_count": 15,
   "id": "2cf33dcf",
   "metadata": {},
   "outputs": [],
   "source": [
    "train_df['prior_question_elapsed_time'] = train_df['prior_question_elapsed_time'].astype('int32')"
   ]
  },
  {
   "cell_type": "code",
   "execution_count": 16,
   "id": "78a29fae",
   "metadata": {
    "scrolled": true
   },
   "outputs": [
    {
     "data": {
      "text/html": [
       "<div>\n",
       "<style scoped>\n",
       "    .dataframe tbody tr th:only-of-type {\n",
       "        vertical-align: middle;\n",
       "    }\n",
       "\n",
       "    .dataframe tbody tr th {\n",
       "        vertical-align: top;\n",
       "    }\n",
       "\n",
       "    .dataframe thead th {\n",
       "        text-align: right;\n",
       "    }\n",
       "</style>\n",
       "<table border=\"1\" class=\"dataframe\">\n",
       "  <thead>\n",
       "    <tr style=\"text-align: right;\">\n",
       "      <th></th>\n",
       "      <th>timestamp</th>\n",
       "      <th>user_id</th>\n",
       "      <th>content_id</th>\n",
       "      <th>task_container_id</th>\n",
       "      <th>answered_correctly</th>\n",
       "      <th>prior_question_elapsed_time</th>\n",
       "    </tr>\n",
       "  </thead>\n",
       "  <tbody>\n",
       "    <tr>\n",
       "      <th>count</th>\n",
       "      <td>9.762770e+05</td>\n",
       "      <td>9.762770e+05</td>\n",
       "      <td>976277.000000</td>\n",
       "      <td>976277.000000</td>\n",
       "      <td>976277.000000</td>\n",
       "      <td>976277.000000</td>\n",
       "    </tr>\n",
       "    <tr>\n",
       "      <th>mean</th>\n",
       "      <td>7.361748e+09</td>\n",
       "      <td>1.016771e+07</td>\n",
       "      <td>4995.688799</td>\n",
       "      <td>811.168137</td>\n",
       "      <td>0.650240</td>\n",
       "      <td>25302.962693</td>\n",
       "    </tr>\n",
       "    <tr>\n",
       "      <th>std</th>\n",
       "      <td>1.058298e+10</td>\n",
       "      <td>6.030277e+06</td>\n",
       "      <td>3290.449442</td>\n",
       "      <td>1030.757460</td>\n",
       "      <td>0.476894</td>\n",
       "      <td>19710.310227</td>\n",
       "    </tr>\n",
       "    <tr>\n",
       "      <th>min</th>\n",
       "      <td>0.000000e+00</td>\n",
       "      <td>1.150000e+02</td>\n",
       "      <td>0.000000</td>\n",
       "      <td>0.000000</td>\n",
       "      <td>0.000000</td>\n",
       "      <td>0.000000</td>\n",
       "    </tr>\n",
       "    <tr>\n",
       "      <th>25%</th>\n",
       "      <td>5.235905e+08</td>\n",
       "      <td>4.700718e+06</td>\n",
       "      <td>1984.000000</td>\n",
       "      <td>110.000000</td>\n",
       "      <td>0.000000</td>\n",
       "      <td>16000.000000</td>\n",
       "    </tr>\n",
       "    <tr>\n",
       "      <th>50%</th>\n",
       "      <td>2.838961e+09</td>\n",
       "      <td>9.678259e+06</td>\n",
       "      <td>4995.000000</td>\n",
       "      <td>393.000000</td>\n",
       "      <td>1.000000</td>\n",
       "      <td>21000.000000</td>\n",
       "    </tr>\n",
       "    <tr>\n",
       "      <th>75%</th>\n",
       "      <td>1.014599e+10</td>\n",
       "      <td>1.556872e+07</td>\n",
       "      <td>7218.000000</td>\n",
       "      <td>1120.000000</td>\n",
       "      <td>1.000000</td>\n",
       "      <td>29666.000000</td>\n",
       "    </tr>\n",
       "    <tr>\n",
       "      <th>max</th>\n",
       "      <td>7.809200e+10</td>\n",
       "      <td>2.094902e+07</td>\n",
       "      <td>13522.000000</td>\n",
       "      <td>7739.000000</td>\n",
       "      <td>1.000000</td>\n",
       "      <td>300000.000000</td>\n",
       "    </tr>\n",
       "  </tbody>\n",
       "</table>\n",
       "</div>"
      ],
      "text/plain": [
       "          timestamp       user_id     content_id  task_container_id  \\\n",
       "count  9.762770e+05  9.762770e+05  976277.000000      976277.000000   \n",
       "mean   7.361748e+09  1.016771e+07    4995.688799         811.168137   \n",
       "std    1.058298e+10  6.030277e+06    3290.449442        1030.757460   \n",
       "min    0.000000e+00  1.150000e+02       0.000000           0.000000   \n",
       "25%    5.235905e+08  4.700718e+06    1984.000000         110.000000   \n",
       "50%    2.838961e+09  9.678259e+06    4995.000000         393.000000   \n",
       "75%    1.014599e+10  1.556872e+07    7218.000000        1120.000000   \n",
       "max    7.809200e+10  2.094902e+07   13522.000000        7739.000000   \n",
       "\n",
       "       answered_correctly  prior_question_elapsed_time  \n",
       "count       976277.000000                976277.000000  \n",
       "mean             0.650240                 25302.962693  \n",
       "std              0.476894                 19710.310227  \n",
       "min              0.000000                     0.000000  \n",
       "25%              0.000000                 16000.000000  \n",
       "50%              1.000000                 21000.000000  \n",
       "75%              1.000000                 29666.000000  \n",
       "max              1.000000                300000.000000  "
      ]
     },
     "metadata": {},
     "output_type": "display_data"
    },
    {
     "name": "stdout",
     "output_type": "stream",
     "text": [
      "<class 'pandas.core.frame.DataFrame'>\n",
      "Int64Index: 976277 entries, 1 to 999999\n",
      "Data columns (total 9 columns):\n",
      " #   Column                          Non-Null Count   Dtype   \n",
      "---  ------                          --------------   -----   \n",
      " 0   timestamp                       976277 non-null  int64   \n",
      " 1   user_id                         976277 non-null  int32   \n",
      " 2   content_id                      976277 non-null  int16   \n",
      " 3   content_type_id                 976277 non-null  category\n",
      " 4   task_container_id               976277 non-null  int16   \n",
      " 5   user_answer                     976277 non-null  category\n",
      " 6   answered_correctly              976277 non-null  int8    \n",
      " 7   prior_question_elapsed_time     976277 non-null  int32   \n",
      " 8   prior_question_had_explanation  976277 non-null  bool    \n",
      "dtypes: bool(1), category(2), int16(2), int32(2), int64(1), int8(1)\n",
      "memory usage: 29.8 MB\n"
     ]
    }
   ],
   "source": [
    "display(train_df.describe())\n",
    "train_df.info()"
   ]
  },
  {
   "cell_type": "markdown",
   "id": "024afa7a",
   "metadata": {},
   "source": [
    "### Исследуем датасет `questions.csv`"
   ]
  },
  {
   "cell_type": "code",
   "execution_count": 17,
   "id": "c9d6737f",
   "metadata": {},
   "outputs": [],
   "source": [
    "questions_df = pd.read_csv('data/questions.csv')"
   ]
  },
  {
   "cell_type": "code",
   "execution_count": 18,
   "id": "4ab8e6de",
   "metadata": {
    "scrolled": true
   },
   "outputs": [
    {
     "data": {
      "text/html": [
       "<div>\n",
       "<style scoped>\n",
       "    .dataframe tbody tr th:only-of-type {\n",
       "        vertical-align: middle;\n",
       "    }\n",
       "\n",
       "    .dataframe tbody tr th {\n",
       "        vertical-align: top;\n",
       "    }\n",
       "\n",
       "    .dataframe thead th {\n",
       "        text-align: right;\n",
       "    }\n",
       "</style>\n",
       "<table border=\"1\" class=\"dataframe\">\n",
       "  <thead>\n",
       "    <tr style=\"text-align: right;\">\n",
       "      <th></th>\n",
       "      <th>question_id</th>\n",
       "      <th>bundle_id</th>\n",
       "      <th>correct_answer</th>\n",
       "      <th>part</th>\n",
       "      <th>tags</th>\n",
       "    </tr>\n",
       "  </thead>\n",
       "  <tbody>\n",
       "    <tr>\n",
       "      <th>0</th>\n",
       "      <td>0</td>\n",
       "      <td>0</td>\n",
       "      <td>0</td>\n",
       "      <td>1</td>\n",
       "      <td>51 131 162 38</td>\n",
       "    </tr>\n",
       "    <tr>\n",
       "      <th>1</th>\n",
       "      <td>1</td>\n",
       "      <td>1</td>\n",
       "      <td>1</td>\n",
       "      <td>1</td>\n",
       "      <td>131 36 81</td>\n",
       "    </tr>\n",
       "    <tr>\n",
       "      <th>2</th>\n",
       "      <td>2</td>\n",
       "      <td>2</td>\n",
       "      <td>0</td>\n",
       "      <td>1</td>\n",
       "      <td>131 101 162 92</td>\n",
       "    </tr>\n",
       "    <tr>\n",
       "      <th>3</th>\n",
       "      <td>3</td>\n",
       "      <td>3</td>\n",
       "      <td>0</td>\n",
       "      <td>1</td>\n",
       "      <td>131 149 162 29</td>\n",
       "    </tr>\n",
       "    <tr>\n",
       "      <th>4</th>\n",
       "      <td>4</td>\n",
       "      <td>4</td>\n",
       "      <td>3</td>\n",
       "      <td>1</td>\n",
       "      <td>131 5 162 38</td>\n",
       "    </tr>\n",
       "    <tr>\n",
       "      <th>...</th>\n",
       "      <td>...</td>\n",
       "      <td>...</td>\n",
       "      <td>...</td>\n",
       "      <td>...</td>\n",
       "      <td>...</td>\n",
       "    </tr>\n",
       "    <tr>\n",
       "      <th>13518</th>\n",
       "      <td>13518</td>\n",
       "      <td>13518</td>\n",
       "      <td>3</td>\n",
       "      <td>5</td>\n",
       "      <td>14</td>\n",
       "    </tr>\n",
       "    <tr>\n",
       "      <th>13519</th>\n",
       "      <td>13519</td>\n",
       "      <td>13519</td>\n",
       "      <td>3</td>\n",
       "      <td>5</td>\n",
       "      <td>8</td>\n",
       "    </tr>\n",
       "    <tr>\n",
       "      <th>13520</th>\n",
       "      <td>13520</td>\n",
       "      <td>13520</td>\n",
       "      <td>2</td>\n",
       "      <td>5</td>\n",
       "      <td>73</td>\n",
       "    </tr>\n",
       "    <tr>\n",
       "      <th>13521</th>\n",
       "      <td>13521</td>\n",
       "      <td>13521</td>\n",
       "      <td>0</td>\n",
       "      <td>5</td>\n",
       "      <td>125</td>\n",
       "    </tr>\n",
       "    <tr>\n",
       "      <th>13522</th>\n",
       "      <td>13522</td>\n",
       "      <td>13522</td>\n",
       "      <td>3</td>\n",
       "      <td>5</td>\n",
       "      <td>55</td>\n",
       "    </tr>\n",
       "  </tbody>\n",
       "</table>\n",
       "<p>13523 rows × 5 columns</p>\n",
       "</div>"
      ],
      "text/plain": [
       "       question_id  bundle_id  correct_answer  part            tags\n",
       "0                0          0               0     1   51 131 162 38\n",
       "1                1          1               1     1       131 36 81\n",
       "2                2          2               0     1  131 101 162 92\n",
       "3                3          3               0     1  131 149 162 29\n",
       "4                4          4               3     1    131 5 162 38\n",
       "...            ...        ...             ...   ...             ...\n",
       "13518        13518      13518               3     5              14\n",
       "13519        13519      13519               3     5               8\n",
       "13520        13520      13520               2     5              73\n",
       "13521        13521      13521               0     5             125\n",
       "13522        13522      13522               3     5              55\n",
       "\n",
       "[13523 rows x 5 columns]"
      ]
     },
     "metadata": {},
     "output_type": "display_data"
    },
    {
     "data": {
      "text/html": [
       "<div>\n",
       "<style scoped>\n",
       "    .dataframe tbody tr th:only-of-type {\n",
       "        vertical-align: middle;\n",
       "    }\n",
       "\n",
       "    .dataframe tbody tr th {\n",
       "        vertical-align: top;\n",
       "    }\n",
       "\n",
       "    .dataframe thead th {\n",
       "        text-align: right;\n",
       "    }\n",
       "</style>\n",
       "<table border=\"1\" class=\"dataframe\">\n",
       "  <thead>\n",
       "    <tr style=\"text-align: right;\">\n",
       "      <th></th>\n",
       "      <th>question_id</th>\n",
       "      <th>bundle_id</th>\n",
       "      <th>correct_answer</th>\n",
       "      <th>part</th>\n",
       "    </tr>\n",
       "  </thead>\n",
       "  <tbody>\n",
       "    <tr>\n",
       "      <th>count</th>\n",
       "      <td>13523.00000</td>\n",
       "      <td>13523.000000</td>\n",
       "      <td>13523.000000</td>\n",
       "      <td>13523.000000</td>\n",
       "    </tr>\n",
       "    <tr>\n",
       "      <th>mean</th>\n",
       "      <td>6761.00000</td>\n",
       "      <td>6760.510907</td>\n",
       "      <td>1.455298</td>\n",
       "      <td>4.264956</td>\n",
       "    </tr>\n",
       "    <tr>\n",
       "      <th>std</th>\n",
       "      <td>3903.89818</td>\n",
       "      <td>3903.857783</td>\n",
       "      <td>1.149707</td>\n",
       "      <td>1.652553</td>\n",
       "    </tr>\n",
       "    <tr>\n",
       "      <th>min</th>\n",
       "      <td>0.00000</td>\n",
       "      <td>0.000000</td>\n",
       "      <td>0.000000</td>\n",
       "      <td>1.000000</td>\n",
       "    </tr>\n",
       "    <tr>\n",
       "      <th>25%</th>\n",
       "      <td>3380.50000</td>\n",
       "      <td>3379.500000</td>\n",
       "      <td>0.000000</td>\n",
       "      <td>3.000000</td>\n",
       "    </tr>\n",
       "    <tr>\n",
       "      <th>50%</th>\n",
       "      <td>6761.00000</td>\n",
       "      <td>6761.000000</td>\n",
       "      <td>1.000000</td>\n",
       "      <td>5.000000</td>\n",
       "    </tr>\n",
       "    <tr>\n",
       "      <th>75%</th>\n",
       "      <td>10141.50000</td>\n",
       "      <td>10140.000000</td>\n",
       "      <td>3.000000</td>\n",
       "      <td>5.000000</td>\n",
       "    </tr>\n",
       "    <tr>\n",
       "      <th>max</th>\n",
       "      <td>13522.00000</td>\n",
       "      <td>13522.000000</td>\n",
       "      <td>3.000000</td>\n",
       "      <td>7.000000</td>\n",
       "    </tr>\n",
       "  </tbody>\n",
       "</table>\n",
       "</div>"
      ],
      "text/plain": [
       "       question_id     bundle_id  correct_answer          part\n",
       "count  13523.00000  13523.000000    13523.000000  13523.000000\n",
       "mean    6761.00000   6760.510907        1.455298      4.264956\n",
       "std     3903.89818   3903.857783        1.149707      1.652553\n",
       "min        0.00000      0.000000        0.000000      1.000000\n",
       "25%     3380.50000   3379.500000        0.000000      3.000000\n",
       "50%     6761.00000   6761.000000        1.000000      5.000000\n",
       "75%    10141.50000  10140.000000        3.000000      5.000000\n",
       "max    13522.00000  13522.000000        3.000000      7.000000"
      ]
     },
     "metadata": {},
     "output_type": "display_data"
    },
    {
     "name": "stdout",
     "output_type": "stream",
     "text": [
      "<class 'pandas.core.frame.DataFrame'>\n",
      "RangeIndex: 13523 entries, 0 to 13522\n",
      "Data columns (total 5 columns):\n",
      " #   Column          Non-Null Count  Dtype \n",
      "---  ------          --------------  ----- \n",
      " 0   question_id     13523 non-null  int64 \n",
      " 1   bundle_id       13523 non-null  int64 \n",
      " 2   correct_answer  13523 non-null  int64 \n",
      " 3   part            13523 non-null  int64 \n",
      " 4   tags            13522 non-null  object\n",
      "dtypes: int64(4), object(1)\n",
      "memory usage: 528.4+ KB\n"
     ]
    }
   ],
   "source": [
    "display(questions_df)\n",
    "display(questions_df.describe())\n",
    "questions_df.info()"
   ]
  },
  {
   "cell_type": "code",
   "execution_count": 19,
   "id": "b9d36483",
   "metadata": {
    "scrolled": true
   },
   "outputs": [
    {
     "data": {
      "text/plain": [
       "count     13522\n",
       "unique     1519\n",
       "top           8\n",
       "freq        738\n",
       "Name: tags, dtype: object"
      ]
     },
     "execution_count": 19,
     "metadata": {},
     "output_type": "execute_result"
    }
   ],
   "source": [
    "questions_df['tags'].describe()"
   ]
  },
  {
   "cell_type": "code",
   "execution_count": 20,
   "id": "de6c97a4",
   "metadata": {},
   "outputs": [
    {
     "data": {
      "text/plain": [
       "13523"
      ]
     },
     "execution_count": 20,
     "metadata": {},
     "output_type": "execute_result"
    }
   ],
   "source": [
    "len(questions_df['question_id'].unique())"
   ]
  },
  {
   "cell_type": "code",
   "execution_count": 21,
   "id": "767e80ef",
   "metadata": {},
   "outputs": [
    {
     "data": {
      "text/plain": [
       "9765"
      ]
     },
     "execution_count": 21,
     "metadata": {},
     "output_type": "execute_result"
    }
   ],
   "source": [
    "len(questions_df['bundle_id'].unique())"
   ]
  },
  {
   "cell_type": "code",
   "execution_count": 22,
   "id": "f487fb5f",
   "metadata": {
    "scrolled": false
   },
   "outputs": [
    {
     "data": {
      "text/plain": [
       "5    5511\n",
       "2    1647\n",
       "3    1562\n",
       "4    1439\n",
       "6    1212\n",
       "7    1160\n",
       "1     992\n",
       "Name: part, dtype: int64"
      ]
     },
     "execution_count": 22,
     "metadata": {},
     "output_type": "execute_result"
    }
   ],
   "source": [
    "questions_df['part'].value_counts()"
   ]
  },
  {
   "cell_type": "markdown",
   "id": "2d5916d9",
   "metadata": {},
   "source": [
    "   1. 5 столбцов 13522 строки\n",
    "   2. Пропуски отсутсвуют\n",
    "   3. `question_id` - идентификатор вопроса. Ключ для значения `content_id` из таблицы _train_. Т.е. всего 13523 вопроса\n",
    "   4. `bundle_id` - объединяющий классификатор вопросов. Уникальных 9765\n",
    "   5. `correct_answer` - правильный ответ. Можно сравнить его с ответом `user_answer` в таблице _train_, если сомневаемся в корректности столбца `answered_correctly`\n",
    "   6. `part` - соответствующая часть из теста TOEIC (Test of English for International Communication). Всего 7 частей. Самая богатая на разнообразие вопросов 5 - _Complete Sentences_\n",
    "   7. `tag` - еще один способ классификации вопросов по тэгам. Уникальных 1519"
   ]
  },
  {
   "cell_type": "markdown",
   "id": "d6255b5b",
   "metadata": {},
   "source": [
    "### Исследуем датасет `lectures.csv`"
   ]
  },
  {
   "cell_type": "code",
   "execution_count": 23,
   "id": "ebfb8cb4",
   "metadata": {},
   "outputs": [],
   "source": [
    "lectures_df = pd.read_csv('data/lectures.csv')"
   ]
  },
  {
   "cell_type": "code",
   "execution_count": 24,
   "id": "b4cb410e",
   "metadata": {},
   "outputs": [
    {
     "data": {
      "text/html": [
       "<div>\n",
       "<style scoped>\n",
       "    .dataframe tbody tr th:only-of-type {\n",
       "        vertical-align: middle;\n",
       "    }\n",
       "\n",
       "    .dataframe tbody tr th {\n",
       "        vertical-align: top;\n",
       "    }\n",
       "\n",
       "    .dataframe thead th {\n",
       "        text-align: right;\n",
       "    }\n",
       "</style>\n",
       "<table border=\"1\" class=\"dataframe\">\n",
       "  <thead>\n",
       "    <tr style=\"text-align: right;\">\n",
       "      <th></th>\n",
       "      <th>lecture_id</th>\n",
       "      <th>tag</th>\n",
       "      <th>part</th>\n",
       "      <th>type_of</th>\n",
       "    </tr>\n",
       "  </thead>\n",
       "  <tbody>\n",
       "    <tr>\n",
       "      <th>0</th>\n",
       "      <td>89</td>\n",
       "      <td>159</td>\n",
       "      <td>5</td>\n",
       "      <td>concept</td>\n",
       "    </tr>\n",
       "    <tr>\n",
       "      <th>1</th>\n",
       "      <td>100</td>\n",
       "      <td>70</td>\n",
       "      <td>1</td>\n",
       "      <td>concept</td>\n",
       "    </tr>\n",
       "    <tr>\n",
       "      <th>2</th>\n",
       "      <td>185</td>\n",
       "      <td>45</td>\n",
       "      <td>6</td>\n",
       "      <td>concept</td>\n",
       "    </tr>\n",
       "    <tr>\n",
       "      <th>3</th>\n",
       "      <td>192</td>\n",
       "      <td>79</td>\n",
       "      <td>5</td>\n",
       "      <td>solving question</td>\n",
       "    </tr>\n",
       "    <tr>\n",
       "      <th>4</th>\n",
       "      <td>317</td>\n",
       "      <td>156</td>\n",
       "      <td>5</td>\n",
       "      <td>solving question</td>\n",
       "    </tr>\n",
       "    <tr>\n",
       "      <th>...</th>\n",
       "      <td>...</td>\n",
       "      <td>...</td>\n",
       "      <td>...</td>\n",
       "      <td>...</td>\n",
       "    </tr>\n",
       "    <tr>\n",
       "      <th>413</th>\n",
       "      <td>32535</td>\n",
       "      <td>8</td>\n",
       "      <td>5</td>\n",
       "      <td>solving question</td>\n",
       "    </tr>\n",
       "    <tr>\n",
       "      <th>414</th>\n",
       "      <td>32570</td>\n",
       "      <td>113</td>\n",
       "      <td>3</td>\n",
       "      <td>solving question</td>\n",
       "    </tr>\n",
       "    <tr>\n",
       "      <th>415</th>\n",
       "      <td>32604</td>\n",
       "      <td>24</td>\n",
       "      <td>6</td>\n",
       "      <td>concept</td>\n",
       "    </tr>\n",
       "    <tr>\n",
       "      <th>416</th>\n",
       "      <td>32625</td>\n",
       "      <td>142</td>\n",
       "      <td>2</td>\n",
       "      <td>concept</td>\n",
       "    </tr>\n",
       "    <tr>\n",
       "      <th>417</th>\n",
       "      <td>32736</td>\n",
       "      <td>82</td>\n",
       "      <td>3</td>\n",
       "      <td>concept</td>\n",
       "    </tr>\n",
       "  </tbody>\n",
       "</table>\n",
       "<p>418 rows × 4 columns</p>\n",
       "</div>"
      ],
      "text/plain": [
       "     lecture_id  tag  part           type_of\n",
       "0            89  159     5           concept\n",
       "1           100   70     1           concept\n",
       "2           185   45     6           concept\n",
       "3           192   79     5  solving question\n",
       "4           317  156     5  solving question\n",
       "..          ...  ...   ...               ...\n",
       "413       32535    8     5  solving question\n",
       "414       32570  113     3  solving question\n",
       "415       32604   24     6           concept\n",
       "416       32625  142     2           concept\n",
       "417       32736   82     3           concept\n",
       "\n",
       "[418 rows x 4 columns]"
      ]
     },
     "metadata": {},
     "output_type": "display_data"
    },
    {
     "data": {
      "text/html": [
       "<div>\n",
       "<style scoped>\n",
       "    .dataframe tbody tr th:only-of-type {\n",
       "        vertical-align: middle;\n",
       "    }\n",
       "\n",
       "    .dataframe tbody tr th {\n",
       "        vertical-align: top;\n",
       "    }\n",
       "\n",
       "    .dataframe thead th {\n",
       "        text-align: right;\n",
       "    }\n",
       "</style>\n",
       "<table border=\"1\" class=\"dataframe\">\n",
       "  <thead>\n",
       "    <tr style=\"text-align: right;\">\n",
       "      <th></th>\n",
       "      <th>lecture_id</th>\n",
       "      <th>tag</th>\n",
       "      <th>part</th>\n",
       "    </tr>\n",
       "  </thead>\n",
       "  <tbody>\n",
       "    <tr>\n",
       "      <th>count</th>\n",
       "      <td>418.000000</td>\n",
       "      <td>418.000000</td>\n",
       "      <td>418.000000</td>\n",
       "    </tr>\n",
       "    <tr>\n",
       "      <th>mean</th>\n",
       "      <td>16983.401914</td>\n",
       "      <td>94.480861</td>\n",
       "      <td>4.267943</td>\n",
       "    </tr>\n",
       "    <tr>\n",
       "      <th>std</th>\n",
       "      <td>9426.164660</td>\n",
       "      <td>53.586487</td>\n",
       "      <td>1.872424</td>\n",
       "    </tr>\n",
       "    <tr>\n",
       "      <th>min</th>\n",
       "      <td>89.000000</td>\n",
       "      <td>0.000000</td>\n",
       "      <td>1.000000</td>\n",
       "    </tr>\n",
       "    <tr>\n",
       "      <th>25%</th>\n",
       "      <td>9026.250000</td>\n",
       "      <td>50.250000</td>\n",
       "      <td>2.000000</td>\n",
       "    </tr>\n",
       "    <tr>\n",
       "      <th>50%</th>\n",
       "      <td>17161.500000</td>\n",
       "      <td>94.500000</td>\n",
       "      <td>5.000000</td>\n",
       "    </tr>\n",
       "    <tr>\n",
       "      <th>75%</th>\n",
       "      <td>24906.250000</td>\n",
       "      <td>140.000000</td>\n",
       "      <td>6.000000</td>\n",
       "    </tr>\n",
       "    <tr>\n",
       "      <th>max</th>\n",
       "      <td>32736.000000</td>\n",
       "      <td>187.000000</td>\n",
       "      <td>7.000000</td>\n",
       "    </tr>\n",
       "  </tbody>\n",
       "</table>\n",
       "</div>"
      ],
      "text/plain": [
       "         lecture_id         tag        part\n",
       "count    418.000000  418.000000  418.000000\n",
       "mean   16983.401914   94.480861    4.267943\n",
       "std     9426.164660   53.586487    1.872424\n",
       "min       89.000000    0.000000    1.000000\n",
       "25%     9026.250000   50.250000    2.000000\n",
       "50%    17161.500000   94.500000    5.000000\n",
       "75%    24906.250000  140.000000    6.000000\n",
       "max    32736.000000  187.000000    7.000000"
      ]
     },
     "metadata": {},
     "output_type": "display_data"
    },
    {
     "name": "stdout",
     "output_type": "stream",
     "text": [
      "<class 'pandas.core.frame.DataFrame'>\n",
      "RangeIndex: 418 entries, 0 to 417\n",
      "Data columns (total 4 columns):\n",
      " #   Column      Non-Null Count  Dtype \n",
      "---  ------      --------------  ----- \n",
      " 0   lecture_id  418 non-null    int64 \n",
      " 1   tag         418 non-null    int64 \n",
      " 2   part        418 non-null    int64 \n",
      " 3   type_of     418 non-null    object\n",
      "dtypes: int64(3), object(1)\n",
      "memory usage: 13.2+ KB\n"
     ]
    }
   ],
   "source": [
    "display(lectures_df)\n",
    "display(lectures_df.describe())\n",
    "lectures_df.info()"
   ]
  },
  {
   "cell_type": "code",
   "execution_count": 25,
   "id": "6f5fc3e6",
   "metadata": {
    "scrolled": true
   },
   "outputs": [
    {
     "data": {
      "text/plain": [
       "concept             222\n",
       "solving question    186\n",
       "intention             7\n",
       "starter               3\n",
       "Name: type_of, dtype: int64"
      ]
     },
     "execution_count": 25,
     "metadata": {},
     "output_type": "execute_result"
    }
   ],
   "source": [
    "lectures_df['type_of'].value_counts()"
   ]
  },
  {
   "cell_type": "code",
   "execution_count": 26,
   "id": "767fd62b",
   "metadata": {
    "scrolled": false
   },
   "outputs": [
    {
     "data": {
      "text/plain": [
       "136    7\n",
       "161    6\n",
       "74     6\n",
       "134    6\n",
       "27     6\n",
       "      ..\n",
       "148    1\n",
       "150    1\n",
       "67     1\n",
       "158    1\n",
       "187    1\n",
       "Name: tag, Length: 151, dtype: int64"
      ]
     },
     "execution_count": 26,
     "metadata": {},
     "output_type": "execute_result"
    }
   ],
   "source": [
    "lectures_df['tag'].value_counts()"
   ]
  },
  {
   "cell_type": "code",
   "execution_count": 27,
   "id": "36f6d4d3",
   "metadata": {},
   "outputs": [
    {
     "data": {
      "text/plain": [
       "5    143\n",
       "6     83\n",
       "2     56\n",
       "1     54\n",
       "7     32\n",
       "4     31\n",
       "3     19\n",
       "Name: part, dtype: int64"
      ]
     },
     "execution_count": 27,
     "metadata": {},
     "output_type": "execute_result"
    }
   ],
   "source": [
    "lectures_df['part'].value_counts()"
   ]
  },
  {
   "cell_type": "markdown",
   "id": "7c3247e6",
   "metadata": {},
   "source": [
    "   1. 4 столбца 418 строк\n",
    "   2. Пропуски отсутсвуют\n",
    "   3. `type_of` 4 типа вопросов\n",
    "   4. `tag` 151 набор тэгов\n",
    "   5. `part` - количество частей. Совпадает с _questions.csv_"
   ]
  },
  {
   "cell_type": "markdown",
   "id": "7bb66c74",
   "metadata": {},
   "source": [
    "### Влияние на успеваемость"
   ]
  },
  {
   "cell_type": "markdown",
   "id": "cc8345d6",
   "metadata": {},
   "source": [
    "#### По классификации вопрсов"
   ]
  },
  {
   "cell_type": "markdown",
   "id": "48dc5f1a",
   "metadata": {},
   "source": [
    "Для начала дополним датасет `train_df` признаками из `questions_df`"
   ]
  },
  {
   "cell_type": "code",
   "execution_count": 28,
   "id": "47dc0b06",
   "metadata": {},
   "outputs": [
    {
     "data": {
      "text/html": [
       "<div>\n",
       "<style scoped>\n",
       "    .dataframe tbody tr th:only-of-type {\n",
       "        vertical-align: middle;\n",
       "    }\n",
       "\n",
       "    .dataframe tbody tr th {\n",
       "        vertical-align: top;\n",
       "    }\n",
       "\n",
       "    .dataframe thead th {\n",
       "        text-align: right;\n",
       "    }\n",
       "</style>\n",
       "<table border=\"1\" class=\"dataframe\">\n",
       "  <thead>\n",
       "    <tr style=\"text-align: right;\">\n",
       "      <th></th>\n",
       "      <th>timestamp</th>\n",
       "      <th>user_id</th>\n",
       "      <th>content_id</th>\n",
       "      <th>content_type_id</th>\n",
       "      <th>task_container_id</th>\n",
       "      <th>user_answer</th>\n",
       "      <th>answered_correctly</th>\n",
       "      <th>prior_question_elapsed_time</th>\n",
       "      <th>prior_question_had_explanation</th>\n",
       "      <th>bundle_id</th>\n",
       "      <th>part</th>\n",
       "      <th>tags</th>\n",
       "    </tr>\n",
       "  </thead>\n",
       "  <tbody>\n",
       "    <tr>\n",
       "      <th>1</th>\n",
       "      <td>56943</td>\n",
       "      <td>115</td>\n",
       "      <td>5716</td>\n",
       "      <td>0</td>\n",
       "      <td>2</td>\n",
       "      <td>2</td>\n",
       "      <td>1</td>\n",
       "      <td>37000</td>\n",
       "      <td>False</td>\n",
       "      <td>5716</td>\n",
       "      <td>5</td>\n",
       "      <td>168</td>\n",
       "    </tr>\n",
       "    <tr>\n",
       "      <th>2</th>\n",
       "      <td>118363</td>\n",
       "      <td>115</td>\n",
       "      <td>128</td>\n",
       "      <td>0</td>\n",
       "      <td>0</td>\n",
       "      <td>0</td>\n",
       "      <td>1</td>\n",
       "      <td>55000</td>\n",
       "      <td>False</td>\n",
       "      <td>128</td>\n",
       "      <td>1</td>\n",
       "      <td>131 149 92</td>\n",
       "    </tr>\n",
       "    <tr>\n",
       "      <th>3</th>\n",
       "      <td>131167</td>\n",
       "      <td>115</td>\n",
       "      <td>7860</td>\n",
       "      <td>0</td>\n",
       "      <td>3</td>\n",
       "      <td>0</td>\n",
       "      <td>1</td>\n",
       "      <td>19000</td>\n",
       "      <td>False</td>\n",
       "      <td>7860</td>\n",
       "      <td>1</td>\n",
       "      <td>131 104 81</td>\n",
       "    </tr>\n",
       "    <tr>\n",
       "      <th>4</th>\n",
       "      <td>137965</td>\n",
       "      <td>115</td>\n",
       "      <td>7922</td>\n",
       "      <td>0</td>\n",
       "      <td>4</td>\n",
       "      <td>1</td>\n",
       "      <td>1</td>\n",
       "      <td>11000</td>\n",
       "      <td>False</td>\n",
       "      <td>7922</td>\n",
       "      <td>1</td>\n",
       "      <td>131 149 92</td>\n",
       "    </tr>\n",
       "    <tr>\n",
       "      <th>5</th>\n",
       "      <td>157063</td>\n",
       "      <td>115</td>\n",
       "      <td>156</td>\n",
       "      <td>0</td>\n",
       "      <td>5</td>\n",
       "      <td>2</td>\n",
       "      <td>1</td>\n",
       "      <td>5000</td>\n",
       "      <td>False</td>\n",
       "      <td>156</td>\n",
       "      <td>1</td>\n",
       "      <td>131 101 162 38</td>\n",
       "    </tr>\n",
       "    <tr>\n",
       "      <th>...</th>\n",
       "      <td>...</td>\n",
       "      <td>...</td>\n",
       "      <td>...</td>\n",
       "      <td>...</td>\n",
       "      <td>...</td>\n",
       "      <td>...</td>\n",
       "      <td>...</td>\n",
       "      <td>...</td>\n",
       "      <td>...</td>\n",
       "      <td>...</td>\n",
       "      <td>...</td>\n",
       "      <td>...</td>\n",
       "    </tr>\n",
       "    <tr>\n",
       "      <th>999995</th>\n",
       "      <td>26482248</td>\n",
       "      <td>20949024</td>\n",
       "      <td>8803</td>\n",
       "      <td>0</td>\n",
       "      <td>29</td>\n",
       "      <td>1</td>\n",
       "      <td>1</td>\n",
       "      <td>14000</td>\n",
       "      <td>True</td>\n",
       "      <td>8803</td>\n",
       "      <td>5</td>\n",
       "      <td>170</td>\n",
       "    </tr>\n",
       "    <tr>\n",
       "      <th>999996</th>\n",
       "      <td>26516686</td>\n",
       "      <td>20949024</td>\n",
       "      <td>4664</td>\n",
       "      <td>0</td>\n",
       "      <td>30</td>\n",
       "      <td>3</td>\n",
       "      <td>1</td>\n",
       "      <td>17000</td>\n",
       "      <td>True</td>\n",
       "      <td>4664</td>\n",
       "      <td>5</td>\n",
       "      <td>34</td>\n",
       "    </tr>\n",
       "    <tr>\n",
       "      <th>999997</th>\n",
       "      <td>26537967</td>\n",
       "      <td>20949024</td>\n",
       "      <td>4108</td>\n",
       "      <td>0</td>\n",
       "      <td>31</td>\n",
       "      <td>1</td>\n",
       "      <td>0</td>\n",
       "      <td>18000</td>\n",
       "      <td>True</td>\n",
       "      <td>4108</td>\n",
       "      <td>5</td>\n",
       "      <td>23</td>\n",
       "    </tr>\n",
       "    <tr>\n",
       "      <th>999998</th>\n",
       "      <td>26590240</td>\n",
       "      <td>20949024</td>\n",
       "      <td>5014</td>\n",
       "      <td>0</td>\n",
       "      <td>32</td>\n",
       "      <td>3</td>\n",
       "      <td>0</td>\n",
       "      <td>6000</td>\n",
       "      <td>True</td>\n",
       "      <td>5014</td>\n",
       "      <td>5</td>\n",
       "      <td>181</td>\n",
       "    </tr>\n",
       "    <tr>\n",
       "      <th>999999</th>\n",
       "      <td>26605316</td>\n",
       "      <td>20949024</td>\n",
       "      <td>9828</td>\n",
       "      <td>0</td>\n",
       "      <td>33</td>\n",
       "      <td>0</td>\n",
       "      <td>0</td>\n",
       "      <td>46000</td>\n",
       "      <td>True</td>\n",
       "      <td>9828</td>\n",
       "      <td>5</td>\n",
       "      <td>73</td>\n",
       "    </tr>\n",
       "  </tbody>\n",
       "</table>\n",
       "<p>976277 rows × 12 columns</p>\n",
       "</div>"
      ],
      "text/plain": [
       "        timestamp   user_id  content_id content_type_id  task_container_id  \\\n",
       "1           56943       115        5716               0                  2   \n",
       "2          118363       115         128               0                  0   \n",
       "3          131167       115        7860               0                  3   \n",
       "4          137965       115        7922               0                  4   \n",
       "5          157063       115         156               0                  5   \n",
       "...           ...       ...         ...             ...                ...   \n",
       "999995   26482248  20949024        8803               0                 29   \n",
       "999996   26516686  20949024        4664               0                 30   \n",
       "999997   26537967  20949024        4108               0                 31   \n",
       "999998   26590240  20949024        5014               0                 32   \n",
       "999999   26605316  20949024        9828               0                 33   \n",
       "\n",
       "       user_answer  answered_correctly  prior_question_elapsed_time  \\\n",
       "1                2                   1                        37000   \n",
       "2                0                   1                        55000   \n",
       "3                0                   1                        19000   \n",
       "4                1                   1                        11000   \n",
       "5                2                   1                         5000   \n",
       "...            ...                 ...                          ...   \n",
       "999995           1                   1                        14000   \n",
       "999996           3                   1                        17000   \n",
       "999997           1                   0                        18000   \n",
       "999998           3                   0                         6000   \n",
       "999999           0                   0                        46000   \n",
       "\n",
       "        prior_question_had_explanation  bundle_id  part            tags  \n",
       "1                                False       5716     5             168  \n",
       "2                                False        128     1      131 149 92  \n",
       "3                                False       7860     1      131 104 81  \n",
       "4                                False       7922     1      131 149 92  \n",
       "5                                False        156     1  131 101 162 38  \n",
       "...                                ...        ...   ...             ...  \n",
       "999995                            True       8803     5             170  \n",
       "999996                            True       4664     5              34  \n",
       "999997                            True       4108     5              23  \n",
       "999998                            True       5014     5             181  \n",
       "999999                            True       9828     5              73  \n",
       "\n",
       "[976277 rows x 12 columns]"
      ]
     },
     "execution_count": 28,
     "metadata": {},
     "output_type": "execute_result"
    }
   ],
   "source": [
    "train_upd_df = train_df.join(questions_df.set_index('question_id')[['bundle_id', 'part', 'tags']], on='content_id')\n",
    "train_upd_df"
   ]
  },
  {
   "cell_type": "code",
   "execution_count": 29,
   "id": "5c627683",
   "metadata": {},
   "outputs": [
    {
     "data": {
      "text/html": [
       "<div>\n",
       "<style scoped>\n",
       "    .dataframe tbody tr th:only-of-type {\n",
       "        vertical-align: middle;\n",
       "    }\n",
       "\n",
       "    .dataframe tbody tr th {\n",
       "        vertical-align: top;\n",
       "    }\n",
       "\n",
       "    .dataframe thead th {\n",
       "        text-align: right;\n",
       "    }\n",
       "</style>\n",
       "<table border=\"1\" class=\"dataframe\">\n",
       "  <thead>\n",
       "    <tr style=\"text-align: right;\">\n",
       "      <th></th>\n",
       "      <th>bundle_id</th>\n",
       "      <th>answered_correctly</th>\n",
       "    </tr>\n",
       "  </thead>\n",
       "  <tbody>\n",
       "    <tr>\n",
       "      <th>0</th>\n",
       "      <td>9713</td>\n",
       "      <td>1.0</td>\n",
       "    </tr>\n",
       "    <tr>\n",
       "      <th>1</th>\n",
       "      <td>13272</td>\n",
       "      <td>1.0</td>\n",
       "    </tr>\n",
       "    <tr>\n",
       "      <th>2</th>\n",
       "      <td>12697</td>\n",
       "      <td>1.0</td>\n",
       "    </tr>\n",
       "    <tr>\n",
       "      <th>3</th>\n",
       "      <td>12700</td>\n",
       "      <td>1.0</td>\n",
       "    </tr>\n",
       "    <tr>\n",
       "      <th>4</th>\n",
       "      <td>4557</td>\n",
       "      <td>1.0</td>\n",
       "    </tr>\n",
       "    <tr>\n",
       "      <th>...</th>\n",
       "      <td>...</td>\n",
       "      <td>...</td>\n",
       "    </tr>\n",
       "    <tr>\n",
       "      <th>9522</th>\n",
       "      <td>8204</td>\n",
       "      <td>0.0</td>\n",
       "    </tr>\n",
       "    <tr>\n",
       "      <th>9523</th>\n",
       "      <td>12585</td>\n",
       "      <td>0.0</td>\n",
       "    </tr>\n",
       "    <tr>\n",
       "      <th>9524</th>\n",
       "      <td>5574</td>\n",
       "      <td>0.0</td>\n",
       "    </tr>\n",
       "    <tr>\n",
       "      <th>9525</th>\n",
       "      <td>12402</td>\n",
       "      <td>0.0</td>\n",
       "    </tr>\n",
       "    <tr>\n",
       "      <th>9526</th>\n",
       "      <td>12865</td>\n",
       "      <td>0.0</td>\n",
       "    </tr>\n",
       "  </tbody>\n",
       "</table>\n",
       "<p>9527 rows × 2 columns</p>\n",
       "</div>"
      ],
      "text/plain": [
       "      bundle_id  answered_correctly\n",
       "0          9713                 1.0\n",
       "1         13272                 1.0\n",
       "2         12697                 1.0\n",
       "3         12700                 1.0\n",
       "4          4557                 1.0\n",
       "...         ...                 ...\n",
       "9522       8204                 0.0\n",
       "9523      12585                 0.0\n",
       "9524       5574                 0.0\n",
       "9525      12402                 0.0\n",
       "9526      12865                 0.0\n",
       "\n",
       "[9527 rows x 2 columns]"
      ]
     },
     "metadata": {},
     "output_type": "display_data"
    }
   ],
   "source": [
    "bundle_perform = (train_upd_df\n",
    "                  .pivot_table(index='bundle_id',\n",
    "                              values='answered_correctly',\n",
    "                              aggfunc=lambda x: x.sum()/len(x))\n",
    "                 .sort_values(by='answered_correctly', ascending=False)\n",
    "                 .reset_index())\n",
    "display(bundle_perform)"
   ]
  },
  {
   "cell_type": "code",
   "execution_count": 30,
   "id": "47674b7a",
   "metadata": {},
   "outputs": [
    {
     "data": {
      "text/plain": [
       "bundle_id             2522\n",
       "answered_correctly    2522\n",
       "dtype: int64"
      ]
     },
     "execution_count": 30,
     "metadata": {},
     "output_type": "execute_result"
    }
   ],
   "source": [
    "bundle_perform[bundle_perform['answered_correctly']<0.6].count() #<bundle_perform['answered_correctly'].quantile(0.1)"
   ]
  },
  {
   "cell_type": "code",
   "execution_count": 31,
   "id": "38ae0697",
   "metadata": {},
   "outputs": [
    {
     "data": {
      "text/plain": [
       "bundle_id             66\n",
       "answered_correctly    66\n",
       "dtype: int64"
      ]
     },
     "execution_count": 31,
     "metadata": {},
     "output_type": "execute_result"
    }
   ],
   "source": [
    "bundle_perform[bundle_perform['answered_correctly']==0].count()"
   ]
  },
  {
   "cell_type": "markdown",
   "id": "37fe7d23",
   "metadata": {},
   "source": [
    "Если допустить, что проходной балл 60%, то вниз статистику утягивает почти 25% наборов вопросов. Около 6% вообще не имеют правильных ответов. Возможно стоит проверить ответ в системе"
   ]
  },
  {
   "cell_type": "code",
   "execution_count": 32,
   "id": "9a45b649",
   "metadata": {
    "scrolled": true
   },
   "outputs": [
    {
     "data": {
      "text/plain": [
       "<AxesSubplot:>"
      ]
     },
     "execution_count": 32,
     "metadata": {},
     "output_type": "execute_result"
    },
    {
     "data": {
      "image/png": "[encoded data removed]",
      "text/plain": [
       "<Figure size 432x288 with 1 Axes>"
      ]
     },
     "metadata": {
      "needs_background": "light"
     },
     "output_type": "display_data"
    }
   ],
   "source": [
    "bundle_perform['answered_correctly'].hist()"
   ]
  },
  {
   "cell_type": "code",
   "execution_count": 33,
   "id": "8798a00a",
   "metadata": {},
   "outputs": [
    {
     "data": {
      "text/html": [
       "<div>\n",
       "<style scoped>\n",
       "    .dataframe tbody tr th:only-of-type {\n",
       "        vertical-align: middle;\n",
       "    }\n",
       "\n",
       "    .dataframe tbody tr th {\n",
       "        vertical-align: top;\n",
       "    }\n",
       "\n",
       "    .dataframe thead th {\n",
       "        text-align: right;\n",
       "    }\n",
       "</style>\n",
       "<table border=\"1\" class=\"dataframe\">\n",
       "  <thead>\n",
       "    <tr style=\"text-align: right;\">\n",
       "      <th></th>\n",
       "      <th>part</th>\n",
       "      <th>answered_correctly</th>\n",
       "    </tr>\n",
       "  </thead>\n",
       "  <tbody>\n",
       "    <tr>\n",
       "      <th>0</th>\n",
       "      <td>1</td>\n",
       "      <td>0.733774</td>\n",
       "    </tr>\n",
       "    <tr>\n",
       "      <th>1</th>\n",
       "      <td>2</td>\n",
       "      <td>0.707265</td>\n",
       "    </tr>\n",
       "    <tr>\n",
       "      <th>2</th>\n",
       "      <td>3</td>\n",
       "      <td>0.692096</td>\n",
       "    </tr>\n",
       "    <tr>\n",
       "      <th>3</th>\n",
       "      <td>6</td>\n",
       "      <td>0.650695</td>\n",
       "    </tr>\n",
       "    <tr>\n",
       "      <th>4</th>\n",
       "      <td>7</td>\n",
       "      <td>0.645141</td>\n",
       "    </tr>\n",
       "    <tr>\n",
       "      <th>5</th>\n",
       "      <td>4</td>\n",
       "      <td>0.620959</td>\n",
       "    </tr>\n",
       "    <tr>\n",
       "      <th>6</th>\n",
       "      <td>5</td>\n",
       "      <td>0.606489</td>\n",
       "    </tr>\n",
       "  </tbody>\n",
       "</table>\n",
       "</div>"
      ],
      "text/plain": [
       "   part  answered_correctly\n",
       "0     1            0.733774\n",
       "1     2            0.707265\n",
       "2     3            0.692096\n",
       "3     6            0.650695\n",
       "4     7            0.645141\n",
       "5     4            0.620959\n",
       "6     5            0.606489"
      ]
     },
     "metadata": {},
     "output_type": "display_data"
    }
   ],
   "source": [
    "part_perform = (train_upd_df\n",
    "                  .pivot_table(index='part',\n",
    "                              values='answered_correctly',\n",
    "                              aggfunc=lambda x: x.sum()/len(x))\n",
    "                 .sort_values(by='answered_correctly', ascending=False)\n",
    "                 .reset_index())\n",
    "display(part_perform)"
   ]
  },
  {
   "cell_type": "markdown",
   "id": "cb0cab7a",
   "metadata": {},
   "source": [
    "Возьмем описание частей с https://toeic-testpro.com/. Часть с нибольшими баллами _Photographs_. С наименьшими _Incomplete_sentences_ и _Short_talks_."
   ]
  },
  {
   "cell_type": "code",
   "execution_count": 34,
   "id": "17a3c87f",
   "metadata": {
    "scrolled": true
   },
   "outputs": [
    {
     "data": {
      "text/html": [
       "<div>\n",
       "<style scoped>\n",
       "    .dataframe tbody tr th:only-of-type {\n",
       "        vertical-align: middle;\n",
       "    }\n",
       "\n",
       "    .dataframe tbody tr th {\n",
       "        vertical-align: top;\n",
       "    }\n",
       "\n",
       "    .dataframe thead th {\n",
       "        text-align: right;\n",
       "    }\n",
       "</style>\n",
       "<table border=\"1\" class=\"dataframe\">\n",
       "  <thead>\n",
       "    <tr style=\"text-align: right;\">\n",
       "      <th></th>\n",
       "      <th>tags</th>\n",
       "      <th>answered_correctly</th>\n",
       "    </tr>\n",
       "  </thead>\n",
       "  <tbody>\n",
       "    <tr>\n",
       "      <th>0</th>\n",
       "      <td>113 144 92</td>\n",
       "      <td>1.0</td>\n",
       "    </tr>\n",
       "    <tr>\n",
       "      <th>1</th>\n",
       "      <td>82 169 162 29</td>\n",
       "      <td>1.0</td>\n",
       "    </tr>\n",
       "    <tr>\n",
       "      <th>2</th>\n",
       "      <td>136 29</td>\n",
       "      <td>1.0</td>\n",
       "    </tr>\n",
       "    <tr>\n",
       "      <th>3</th>\n",
       "      <td>113 92 59</td>\n",
       "      <td>1.0</td>\n",
       "    </tr>\n",
       "    <tr>\n",
       "      <th>4</th>\n",
       "      <td>74 120 162 81</td>\n",
       "      <td>1.0</td>\n",
       "    </tr>\n",
       "    <tr>\n",
       "      <th>...</th>\n",
       "      <td>...</td>\n",
       "      <td>...</td>\n",
       "    </tr>\n",
       "    <tr>\n",
       "      <th>1496</th>\n",
       "      <td>74 92 59</td>\n",
       "      <td>0.0</td>\n",
       "    </tr>\n",
       "    <tr>\n",
       "      <th>1497</th>\n",
       "      <td>74 171 162 102</td>\n",
       "      <td>0.0</td>\n",
       "    </tr>\n",
       "    <tr>\n",
       "      <th>1498</th>\n",
       "      <td>161 169 92</td>\n",
       "      <td>0.0</td>\n",
       "    </tr>\n",
       "    <tr>\n",
       "      <th>1499</th>\n",
       "      <td>136 183 162 92</td>\n",
       "      <td>0.0</td>\n",
       "    </tr>\n",
       "    <tr>\n",
       "      <th>1500</th>\n",
       "      <td>161 144 92</td>\n",
       "      <td>0.0</td>\n",
       "    </tr>\n",
       "  </tbody>\n",
       "</table>\n",
       "<p>1501 rows × 2 columns</p>\n",
       "</div>"
      ],
      "text/plain": [
       "                tags  answered_correctly\n",
       "0         113 144 92                 1.0\n",
       "1      82 169 162 29                 1.0\n",
       "2             136 29                 1.0\n",
       "3          113 92 59                 1.0\n",
       "4      74 120 162 81                 1.0\n",
       "...              ...                 ...\n",
       "1496        74 92 59                 0.0\n",
       "1497  74 171 162 102                 0.0\n",
       "1498      161 169 92                 0.0\n",
       "1499  136 183 162 92                 0.0\n",
       "1500      161 144 92                 0.0\n",
       "\n",
       "[1501 rows x 2 columns]"
      ]
     },
     "metadata": {},
     "output_type": "display_data"
    }
   ],
   "source": [
    "tags_perform = (train_upd_df\n",
    "                  .pivot_table(index='tags',\n",
    "                              values='answered_correctly',\n",
    "                              aggfunc=lambda x: x.sum()/len(x))\n",
    "                 .sort_values(by='answered_correctly', ascending=False)\n",
    "                 .reset_index())\n",
    "display(tags_perform)"
   ]
  },
  {
   "cell_type": "code",
   "execution_count": 35,
   "id": "256f7fcd",
   "metadata": {
    "scrolled": true
   },
   "outputs": [
    {
     "data": {
      "text/plain": [
       "<AxesSubplot:>"
      ]
     },
     "execution_count": 35,
     "metadata": {},
     "output_type": "execute_result"
    },
    {
     "data": {
      "image/png": "[encoded data removed]",
      "text/plain": [
       "<Figure size 432x288 with 1 Axes>"
      ]
     },
     "metadata": {
      "needs_background": "light"
     },
     "output_type": "display_data"
    }
   ],
   "source": [
    "tags_perform['answered_correctly'].hist()"
   ]
  },
  {
   "cell_type": "markdown",
   "id": "208e52cf",
   "metadata": {},
   "source": [
    "По тагам ситуация схожа с бандлами"
   ]
  },
  {
   "cell_type": "markdown",
   "id": "077aa5a2",
   "metadata": {},
   "source": [
    "#### Анализ по пользователям"
   ]
  },
  {
   "cell_type": "markdown",
   "id": "42820b9c",
   "metadata": {},
   "source": [
    "Посмотрим на сколько коррелирует доля правильных ответов со временем затраченным перед вопросом\n"
   ]
  },
  {
   "cell_type": "code",
   "execution_count": 36,
   "id": "5cd4098a",
   "metadata": {},
   "outputs": [
    {
     "data": {
      "text/html": [
       "<div>\n",
       "<style scoped>\n",
       "    .dataframe tbody tr th:only-of-type {\n",
       "        vertical-align: middle;\n",
       "    }\n",
       "\n",
       "    .dataframe tbody tr th {\n",
       "        vertical-align: top;\n",
       "    }\n",
       "\n",
       "    .dataframe thead tr th {\n",
       "        text-align: left;\n",
       "    }\n",
       "</style>\n",
       "<table border=\"1\" class=\"dataframe\">\n",
       "  <thead>\n",
       "    <tr>\n",
       "      <th></th>\n",
       "      <th>user_id</th>\n",
       "      <th colspan=\"2\" halign=\"left\">&lt;lambda&gt;</th>\n",
       "      <th colspan=\"2\" halign=\"left\">mean</th>\n",
       "    </tr>\n",
       "    <tr>\n",
       "      <th></th>\n",
       "      <th></th>\n",
       "      <th>answered_correctly</th>\n",
       "      <th>prior_question_elapsed_time</th>\n",
       "      <th>answered_correctly</th>\n",
       "      <th>prior_question_elapsed_time</th>\n",
       "    </tr>\n",
       "  </thead>\n",
       "  <tbody>\n",
       "    <tr>\n",
       "      <th>0</th>\n",
       "      <td>115</td>\n",
       "      <td>0.688889</td>\n",
       "      <td>19933.311111</td>\n",
       "      <td>0.688889</td>\n",
       "      <td>19933.311111</td>\n",
       "    </tr>\n",
       "    <tr>\n",
       "      <th>1</th>\n",
       "      <td>124</td>\n",
       "      <td>0.206897</td>\n",
       "      <td>18793.000000</td>\n",
       "      <td>0.206897</td>\n",
       "      <td>18793.000000</td>\n",
       "    </tr>\n",
       "    <tr>\n",
       "      <th>2</th>\n",
       "      <td>2746</td>\n",
       "      <td>0.611111</td>\n",
       "      <td>18055.555556</td>\n",
       "      <td>0.611111</td>\n",
       "      <td>18055.555556</td>\n",
       "    </tr>\n",
       "    <tr>\n",
       "      <th>3</th>\n",
       "      <td>5382</td>\n",
       "      <td>0.669355</td>\n",
       "      <td>36048.387097</td>\n",
       "      <td>0.669355</td>\n",
       "      <td>36048.387097</td>\n",
       "    </tr>\n",
       "    <tr>\n",
       "      <th>4</th>\n",
       "      <td>8623</td>\n",
       "      <td>0.638889</td>\n",
       "      <td>26107.407407</td>\n",
       "      <td>0.638889</td>\n",
       "      <td>26107.407407</td>\n",
       "    </tr>\n",
       "    <tr>\n",
       "      <th>...</th>\n",
       "      <td>...</td>\n",
       "      <td>...</td>\n",
       "      <td>...</td>\n",
       "      <td>...</td>\n",
       "      <td>...</td>\n",
       "    </tr>\n",
       "    <tr>\n",
       "      <th>3817</th>\n",
       "      <td>20913319</td>\n",
       "      <td>0.632242</td>\n",
       "      <td>27666.629723</td>\n",
       "      <td>0.632242</td>\n",
       "      <td>27666.629723</td>\n",
       "    </tr>\n",
       "    <tr>\n",
       "      <th>3818</th>\n",
       "      <td>20913864</td>\n",
       "      <td>0.300000</td>\n",
       "      <td>18200.000000</td>\n",
       "      <td>0.300000</td>\n",
       "      <td>18200.000000</td>\n",
       "    </tr>\n",
       "    <tr>\n",
       "      <th>3819</th>\n",
       "      <td>20938253</td>\n",
       "      <td>0.609943</td>\n",
       "      <td>22630.590822</td>\n",
       "      <td>0.609943</td>\n",
       "      <td>22630.590822</td>\n",
       "    </tr>\n",
       "    <tr>\n",
       "      <th>3820</th>\n",
       "      <td>20948951</td>\n",
       "      <td>0.620000</td>\n",
       "      <td>19860.000000</td>\n",
       "      <td>0.620000</td>\n",
       "      <td>19860.000000</td>\n",
       "    </tr>\n",
       "    <tr>\n",
       "      <th>3821</th>\n",
       "      <td>20949024</td>\n",
       "      <td>0.297872</td>\n",
       "      <td>32757.021277</td>\n",
       "      <td>0.297872</td>\n",
       "      <td>32757.021277</td>\n",
       "    </tr>\n",
       "  </tbody>\n",
       "</table>\n",
       "<p>3822 rows × 5 columns</p>\n",
       "</div>"
      ],
      "text/plain": [
       "       user_id           <lambda>                              \\\n",
       "               answered_correctly prior_question_elapsed_time   \n",
       "0          115           0.688889                19933.311111   \n",
       "1          124           0.206897                18793.000000   \n",
       "2         2746           0.611111                18055.555556   \n",
       "3         5382           0.669355                36048.387097   \n",
       "4         8623           0.638889                26107.407407   \n",
       "...        ...                ...                         ...   \n",
       "3817  20913319           0.632242                27666.629723   \n",
       "3818  20913864           0.300000                18200.000000   \n",
       "3819  20938253           0.609943                22630.590822   \n",
       "3820  20948951           0.620000                19860.000000   \n",
       "3821  20949024           0.297872                32757.021277   \n",
       "\n",
       "                   mean                              \n",
       "     answered_correctly prior_question_elapsed_time  \n",
       "0              0.688889                19933.311111  \n",
       "1              0.206897                18793.000000  \n",
       "2              0.611111                18055.555556  \n",
       "3              0.669355                36048.387097  \n",
       "4              0.638889                26107.407407  \n",
       "...                 ...                         ...  \n",
       "3817           0.632242                27666.629723  \n",
       "3818           0.300000                18200.000000  \n",
       "3819           0.609943                22630.590822  \n",
       "3820           0.620000                19860.000000  \n",
       "3821           0.297872                32757.021277  \n",
       "\n",
       "[3822 rows x 5 columns]"
      ]
     },
     "metadata": {},
     "output_type": "display_data"
    }
   ],
   "source": [
    "users_perform = (train_upd_df\n",
    "                  .pivot_table(index='user_id',\n",
    "                  values=['answered_correctly','prior_question_elapsed_time'],\n",
    "                  aggfunc=[lambda x: x.sum()/len(x), 'mean']\n",
    "                  )\n",
    "                 #.sort_values(by='answered_correctly', ascending=False)\n",
    "                 .reset_index())\n",
    "display(users_perform)"
   ]
  },
  {
   "cell_type": "code",
   "execution_count": 37,
   "id": "827efade",
   "metadata": {},
   "outputs": [
    {
     "data": {
      "text/plain": [
       "0       0.688889\n",
       "1       0.206897\n",
       "2       0.611111\n",
       "3       0.669355\n",
       "4       0.638889\n",
       "          ...   \n",
       "3817    0.632242\n",
       "3818    0.300000\n",
       "3819    0.609943\n",
       "3820    0.620000\n",
       "3821    0.297872\n",
       "Name: (<lambda>, answered_correctly), Length: 3822, dtype: float64"
      ]
     },
     "execution_count": 37,
     "metadata": {},
     "output_type": "execute_result"
    }
   ],
   "source": [
    "users_perform.xs(('<lambda>', 'answered_correctly'), axis=1)"
   ]
  },
  {
   "cell_type": "code",
   "execution_count": 38,
   "id": "24fb16d0",
   "metadata": {
    "scrolled": true
   },
   "outputs": [
    {
     "data": {
      "image/png": "[encoded data removed]",
      "text/plain": [
       "<Figure size 432x288 with 1 Axes>"
      ]
     },
     "metadata": {
      "needs_background": "light"
     },
     "output_type": "display_data"
    }
   ],
   "source": [
    "plt.scatter(users_perform['<lambda>']['answered_correctly'], users_perform['mean']['prior_question_elapsed_time'])\n",
    "plt.title('Корреляция между оценками пользователей и критиков: ' + \n",
    "          str(users_perform['<lambda>']['answered_correctly'].corr(users_perform['mean']['prior_question_elapsed_time'])))\n",
    "plt.show()"
   ]
  },
  {
   "cell_type": "markdown",
   "id": "3a3ba290",
   "metadata": {},
   "source": [
    "Корреляция между долей правильных ответов пользователей и временем перед ответом отсутствует"
   ]
  },
  {
   "cell_type": "code",
   "execution_count": 39,
   "id": "4350feca",
   "metadata": {
    "scrolled": false
   },
   "outputs": [
    {
     "data": {
      "text/plain": [
       "<AxesSubplot:xlabel='prior_question_had_explanation'>"
      ]
     },
     "execution_count": 39,
     "metadata": {},
     "output_type": "execute_result"
    },
    {
     "data": {
      "image/png": "[encoded data removed]",
      "text/plain": [
       "<Figure size 432x288 with 1 Axes>"
      ]
     },
     "metadata": {
      "needs_background": "light"
     },
     "output_type": "display_data"
    }
   ],
   "source": [
    "answers_with_explanation = (train_upd_df\n",
    "                  .pivot_table(index='prior_question_had_explanation',\n",
    "                              values='answered_correctly',\n",
    "                              aggfunc=['sum', lambda x: ((-1)*(x-1)).sum()]\n",
    "                              )\n",
    "                )\n",
    "answers_with_explanation.columns = [('sum', 'answered_correctly'), ('sum', 'answered_uncorrectly')]\n",
    "answers_with_explanation.plot.bar()"
   ]
  },
  {
   "cell_type": "code",
   "execution_count": 40,
   "id": "e251c324",
   "metadata": {},
   "outputs": [
    {
     "data": {
      "text/html": [
       "<div>\n",
       "<style scoped>\n",
       "    .dataframe tbody tr th:only-of-type {\n",
       "        vertical-align: middle;\n",
       "    }\n",
       "\n",
       "    .dataframe tbody tr th {\n",
       "        vertical-align: top;\n",
       "    }\n",
       "\n",
       "    .dataframe thead th {\n",
       "        text-align: right;\n",
       "    }\n",
       "</style>\n",
       "<table border=\"1\" class=\"dataframe\">\n",
       "  <thead>\n",
       "    <tr style=\"text-align: right;\">\n",
       "      <th></th>\n",
       "      <th>(sum, answered_correctly)</th>\n",
       "      <th>(sum, answered_uncorrectly)</th>\n",
       "    </tr>\n",
       "    <tr>\n",
       "      <th>prior_question_had_explanation</th>\n",
       "      <th></th>\n",
       "      <th></th>\n",
       "    </tr>\n",
       "  </thead>\n",
       "  <tbody>\n",
       "    <tr>\n",
       "      <th>False</th>\n",
       "      <td>42227.0</td>\n",
       "      <td>44163</td>\n",
       "    </tr>\n",
       "    <tr>\n",
       "      <th>True</th>\n",
       "      <td>592587.0</td>\n",
       "      <td>297300</td>\n",
       "    </tr>\n",
       "  </tbody>\n",
       "</table>\n",
       "</div>"
      ],
      "text/plain": [
       "                                (sum, answered_correctly)  \\\n",
       "prior_question_had_explanation                              \n",
       "False                                             42227.0   \n",
       "True                                             592587.0   \n",
       "\n",
       "                                (sum, answered_uncorrectly)  \n",
       "prior_question_had_explanation                               \n",
       "False                                                 44163  \n",
       "True                                                 297300  "
      ]
     },
     "execution_count": 40,
     "metadata": {},
     "output_type": "execute_result"
    }
   ],
   "source": [
    "answers_with_explanation"
   ]
  },
  {
   "cell_type": "markdown",
   "id": "123dab55",
   "metadata": {},
   "source": [
    "Исходя из графика, если воспользовался пояснением, то вероятность ошибки в два раза ниже"
   ]
  },
  {
   "cell_type": "markdown",
   "id": "0167911f",
   "metadata": {},
   "source": [
    "#### Анализ по лекциям"
   ]
  },
  {
   "cell_type": "code",
   "execution_count": 41,
   "id": "1f4edb80",
   "metadata": {},
   "outputs": [
    {
     "data": {
      "text/html": [
       "<div>\n",
       "<style scoped>\n",
       "    .dataframe tbody tr th:only-of-type {\n",
       "        vertical-align: middle;\n",
       "    }\n",
       "\n",
       "    .dataframe tbody tr th {\n",
       "        vertical-align: top;\n",
       "    }\n",
       "\n",
       "    .dataframe thead th {\n",
       "        text-align: right;\n",
       "    }\n",
       "</style>\n",
       "<table border=\"1\" class=\"dataframe\">\n",
       "  <thead>\n",
       "    <tr style=\"text-align: right;\">\n",
       "      <th></th>\n",
       "      <th>timestamp</th>\n",
       "      <th>user_id</th>\n",
       "      <th>content_id</th>\n",
       "      <th>content_type_id</th>\n",
       "      <th>task_container_id</th>\n",
       "      <th>user_answer</th>\n",
       "      <th>answered_correctly</th>\n",
       "      <th>prior_question_elapsed_time</th>\n",
       "      <th>prior_question_had_explanation</th>\n",
       "      <th>type_of</th>\n",
       "      <th>part</th>\n",
       "      <th>tag</th>\n",
       "    </tr>\n",
       "  </thead>\n",
       "  <tbody>\n",
       "    <tr>\n",
       "      <th>89</th>\n",
       "      <td>653762</td>\n",
       "      <td>2746</td>\n",
       "      <td>6808</td>\n",
       "      <td>1</td>\n",
       "      <td>14</td>\n",
       "      <td>-1</td>\n",
       "      <td>-1</td>\n",
       "      <td>NaN</td>\n",
       "      <td>False</td>\n",
       "      <td>intention</td>\n",
       "      <td>2</td>\n",
       "      <td>129</td>\n",
       "    </tr>\n",
       "    <tr>\n",
       "      <th>117</th>\n",
       "      <td>10183847</td>\n",
       "      <td>5382</td>\n",
       "      <td>16736</td>\n",
       "      <td>1</td>\n",
       "      <td>21</td>\n",
       "      <td>-1</td>\n",
       "      <td>-1</td>\n",
       "      <td>NaN</td>\n",
       "      <td>False</td>\n",
       "      <td>concept</td>\n",
       "      <td>1</td>\n",
       "      <td>40</td>\n",
       "    </tr>\n",
       "    <tr>\n",
       "      <th>212</th>\n",
       "      <td>1424348597</td>\n",
       "      <td>5382</td>\n",
       "      <td>30207</td>\n",
       "      <td>1</td>\n",
       "      <td>104</td>\n",
       "      <td>-1</td>\n",
       "      <td>-1</td>\n",
       "      <td>NaN</td>\n",
       "      <td>False</td>\n",
       "      <td>concept</td>\n",
       "      <td>5</td>\n",
       "      <td>43</td>\n",
       "    </tr>\n",
       "    <tr>\n",
       "      <th>216</th>\n",
       "      <td>1425557777</td>\n",
       "      <td>5382</td>\n",
       "      <td>18545</td>\n",
       "      <td>1</td>\n",
       "      <td>121</td>\n",
       "      <td>-1</td>\n",
       "      <td>-1</td>\n",
       "      <td>NaN</td>\n",
       "      <td>False</td>\n",
       "      <td>concept</td>\n",
       "      <td>5</td>\n",
       "      <td>58</td>\n",
       "    </tr>\n",
       "    <tr>\n",
       "      <th>295</th>\n",
       "      <td>405813029</td>\n",
       "      <td>8623</td>\n",
       "      <td>10540</td>\n",
       "      <td>1</td>\n",
       "      <td>59</td>\n",
       "      <td>-1</td>\n",
       "      <td>-1</td>\n",
       "      <td>NaN</td>\n",
       "      <td>False</td>\n",
       "      <td>concept</td>\n",
       "      <td>1</td>\n",
       "      <td>99</td>\n",
       "    </tr>\n",
       "    <tr>\n",
       "      <th>...</th>\n",
       "      <td>...</td>\n",
       "      <td>...</td>\n",
       "      <td>...</td>\n",
       "      <td>...</td>\n",
       "      <td>...</td>\n",
       "      <td>...</td>\n",
       "      <td>...</td>\n",
       "      <td>...</td>\n",
       "      <td>...</td>\n",
       "      <td>...</td>\n",
       "      <td>...</td>\n",
       "      <td>...</td>\n",
       "    </tr>\n",
       "    <tr>\n",
       "      <th>999740</th>\n",
       "      <td>206141912</td>\n",
       "      <td>20938253</td>\n",
       "      <td>14443</td>\n",
       "      <td>1</td>\n",
       "      <td>286</td>\n",
       "      <td>-1</td>\n",
       "      <td>-1</td>\n",
       "      <td>NaN</td>\n",
       "      <td>False</td>\n",
       "      <td>concept</td>\n",
       "      <td>5</td>\n",
       "      <td>28</td>\n",
       "    </tr>\n",
       "    <tr>\n",
       "      <th>999746</th>\n",
       "      <td>206253699</td>\n",
       "      <td>20938253</td>\n",
       "      <td>21597</td>\n",
       "      <td>1</td>\n",
       "      <td>292</td>\n",
       "      <td>-1</td>\n",
       "      <td>-1</td>\n",
       "      <td>NaN</td>\n",
       "      <td>False</td>\n",
       "      <td>concept</td>\n",
       "      <td>5</td>\n",
       "      <td>116</td>\n",
       "    </tr>\n",
       "    <tr>\n",
       "      <th>999762</th>\n",
       "      <td>207265143</td>\n",
       "      <td>20938253</td>\n",
       "      <td>26404</td>\n",
       "      <td>1</td>\n",
       "      <td>308</td>\n",
       "      <td>-1</td>\n",
       "      <td>-1</td>\n",
       "      <td>NaN</td>\n",
       "      <td>False</td>\n",
       "      <td>solving question</td>\n",
       "      <td>5</td>\n",
       "      <td>52</td>\n",
       "    </tr>\n",
       "    <tr>\n",
       "      <th>999790</th>\n",
       "      <td>208152685</td>\n",
       "      <td>20938253</td>\n",
       "      <td>22362</td>\n",
       "      <td>1</td>\n",
       "      <td>336</td>\n",
       "      <td>-1</td>\n",
       "      <td>-1</td>\n",
       "      <td>NaN</td>\n",
       "      <td>False</td>\n",
       "      <td>concept</td>\n",
       "      <td>5</td>\n",
       "      <td>73</td>\n",
       "    </tr>\n",
       "    <tr>\n",
       "      <th>999859</th>\n",
       "      <td>1142327350</td>\n",
       "      <td>20938253</td>\n",
       "      <td>1731</td>\n",
       "      <td>1</td>\n",
       "      <td>406</td>\n",
       "      <td>-1</td>\n",
       "      <td>-1</td>\n",
       "      <td>NaN</td>\n",
       "      <td>False</td>\n",
       "      <td>concept</td>\n",
       "      <td>5</td>\n",
       "      <td>4</td>\n",
       "    </tr>\n",
       "  </tbody>\n",
       "</table>\n",
       "<p>19907 rows × 12 columns</p>\n",
       "</div>"
      ],
      "text/plain": [
       "         timestamp   user_id  content_id content_type_id  task_container_id  \\\n",
       "89          653762      2746        6808               1                 14   \n",
       "117       10183847      5382       16736               1                 21   \n",
       "212     1424348597      5382       30207               1                104   \n",
       "216     1425557777      5382       18545               1                121   \n",
       "295      405813029      8623       10540               1                 59   \n",
       "...            ...       ...         ...             ...                ...   \n",
       "999740   206141912  20938253       14443               1                286   \n",
       "999746   206253699  20938253       21597               1                292   \n",
       "999762   207265143  20938253       26404               1                308   \n",
       "999790   208152685  20938253       22362               1                336   \n",
       "999859  1142327350  20938253        1731               1                406   \n",
       "\n",
       "       user_answer  answered_correctly  prior_question_elapsed_time  \\\n",
       "89              -1                  -1                          NaN   \n",
       "117             -1                  -1                          NaN   \n",
       "212             -1                  -1                          NaN   \n",
       "216             -1                  -1                          NaN   \n",
       "295             -1                  -1                          NaN   \n",
       "...            ...                 ...                          ...   \n",
       "999740          -1                  -1                          NaN   \n",
       "999746          -1                  -1                          NaN   \n",
       "999762          -1                  -1                          NaN   \n",
       "999790          -1                  -1                          NaN   \n",
       "999859          -1                  -1                          NaN   \n",
       "\n",
       "       prior_question_had_explanation           type_of  part  tag  \n",
       "89                              False         intention     2  129  \n",
       "117                             False           concept     1   40  \n",
       "212                             False           concept     5   43  \n",
       "216                             False           concept     5   58  \n",
       "295                             False           concept     1   99  \n",
       "...                               ...               ...   ...  ...  \n",
       "999740                          False           concept     5   28  \n",
       "999746                          False           concept     5  116  \n",
       "999762                          False  solving question     5   52  \n",
       "999790                          False           concept     5   73  \n",
       "999859                          False           concept     5    4  \n",
       "\n",
       "[19907 rows x 12 columns]"
      ]
     },
     "metadata": {},
     "output_type": "display_data"
    }
   ],
   "source": [
    "train_lectures_upd_df = train_lectures_df.join(lectures_df.set_index('lecture_id')[['type_of', 'part', 'tag']], \n",
    "                                               on='content_id')\n",
    "display(train_lectures_upd_df)"
   ]
  },
  {
   "cell_type": "code",
   "execution_count": 42,
   "id": "0d8d1fda",
   "metadata": {},
   "outputs": [
    {
     "data": {
      "text/plain": [
       "concept             14326\n",
       "solving question     4468\n",
       "intention            1113\n",
       "Name: type_of, dtype: int64"
      ]
     },
     "execution_count": 42,
     "metadata": {},
     "output_type": "execute_result"
    }
   ],
   "source": [
    "train_lectures_upd_df['type_of'].value_counts()"
   ]
  },
  {
   "cell_type": "code",
   "execution_count": 43,
   "id": "b2dadf42",
   "metadata": {
    "scrolled": false
   },
   "outputs": [
    {
     "data": {
      "text/html": [
       "<div>\n",
       "<style scoped>\n",
       "    .dataframe tbody tr th:only-of-type {\n",
       "        vertical-align: middle;\n",
       "    }\n",
       "\n",
       "    .dataframe tbody tr th {\n",
       "        vertical-align: top;\n",
       "    }\n",
       "\n",
       "    .dataframe thead th {\n",
       "        text-align: right;\n",
       "    }\n",
       "</style>\n",
       "<table border=\"1\" class=\"dataframe\">\n",
       "  <thead>\n",
       "    <tr style=\"text-align: right;\">\n",
       "      <th></th>\n",
       "      <th>counts</th>\n",
       "      <th>answered_correctly</th>\n",
       "    </tr>\n",
       "    <tr>\n",
       "      <th>part</th>\n",
       "      <th></th>\n",
       "      <th></th>\n",
       "    </tr>\n",
       "  </thead>\n",
       "  <tbody>\n",
       "    <tr>\n",
       "      <th>5</th>\n",
       "      <td>9371</td>\n",
       "      <td>0.606489</td>\n",
       "    </tr>\n",
       "    <tr>\n",
       "      <th>2</th>\n",
       "      <td>3819</td>\n",
       "      <td>0.707265</td>\n",
       "    </tr>\n",
       "    <tr>\n",
       "      <th>6</th>\n",
       "      <td>2488</td>\n",
       "      <td>0.650695</td>\n",
       "    </tr>\n",
       "    <tr>\n",
       "      <th>1</th>\n",
       "      <td>1553</td>\n",
       "      <td>0.733774</td>\n",
       "    </tr>\n",
       "    <tr>\n",
       "      <th>3</th>\n",
       "      <td>1002</td>\n",
       "      <td>0.692096</td>\n",
       "    </tr>\n",
       "    <tr>\n",
       "      <th>4</th>\n",
       "      <td>962</td>\n",
       "      <td>0.620959</td>\n",
       "    </tr>\n",
       "    <tr>\n",
       "      <th>7</th>\n",
       "      <td>712</td>\n",
       "      <td>0.645141</td>\n",
       "    </tr>\n",
       "  </tbody>\n",
       "</table>\n",
       "</div>"
      ],
      "text/plain": [
       "      counts  answered_correctly\n",
       "part                            \n",
       "5       9371            0.606489\n",
       "2       3819            0.707265\n",
       "6       2488            0.650695\n",
       "1       1553            0.733774\n",
       "3       1002            0.692096\n",
       "4        962            0.620959\n",
       "7        712            0.645141"
      ]
     },
     "metadata": {},
     "output_type": "display_data"
    }
   ],
   "source": [
    "train_lectures_part_df = (train_lectures_upd_df['part'].value_counts().\n",
    "                          rename_axis('part').to_frame('counts').\n",
    "                          join(part_perform.set_index('part')))\n",
    "display(train_lectures_part_df)"
   ]
  },
  {
   "cell_type": "markdown",
   "id": "9e685406",
   "metadata": {},
   "source": [
    "По самой проблемной части 5 больше всего лекций. Возможно выборка из первого млн строк не репрезентативна. В остальном логично: части 7 и 4 в меньшей степени были пройдены в лекциях"
   ]
  },
  {
   "cell_type": "code",
   "execution_count": 44,
   "id": "201edb78",
   "metadata": {},
   "outputs": [
    {
     "data": {
      "text/plain": [
       "62     601\n",
       "27     553\n",
       "136    420\n",
       "163    400\n",
       "26     393\n",
       "      ... \n",
       "150      8\n",
       "103      8\n",
       "171      8\n",
       "187      5\n",
       "138      4\n",
       "Name: tag, Length: 150, dtype: int64"
      ]
     },
     "execution_count": 44,
     "metadata": {},
     "output_type": "execute_result"
    }
   ],
   "source": [
    "train_lectures_upd_df['tag'].value_counts()"
   ]
  },
  {
   "cell_type": "markdown",
   "id": "93d6219d",
   "metadata": {},
   "source": [
    "### Выводы"
   ]
  },
  {
   "cell_type": "markdown",
   "id": "df10ac91",
   "metadata": {},
   "source": [
    "1. В результате приведения типов данных удается сократить объем используемой памяти вдвое\n",
    "2. `prior_question_elapsed_time` - можно перевести в целочисленный тип\n",
    "3. В тестах возможно всего 4 варианта ответа\n",
    "4. Вниз статистику по правильным ответам утягивают почти 25% наборов вопросов. Около 6% вообще не имеют правильных ответов\n",
    "5. Часть с нибольшими баллами Photographs. С наименьшими Incomplete_sentences и Short_talks.\n",
    "6. Корреляция между долей правильных ответов пользователей и временем перед ответом отсутствует\n",
    "7. Если воспользовался пояснением, то вероятность ошибки в два раза ниже\n",
    "8. По самой проблемной части 5 больше всего лекций. По другим проблемным частям 7 и 4 в меньшей степени были пройдены в лекциях"
   ]
  },
  {
   "cell_type": "code",
   "execution_count": null,
   "id": "82706768",
   "metadata": {},
   "outputs": [],
   "source": []
  }
 ],
 "metadata": {
  "kernelspec": {
   "display_name": "Python 3",
   "language": "python",
   "name": "python3"
  },
  "language_info": {
   "codemirror_mode": {
    "name": "ipython",
    "version": 3
   },
   "file_extension": ".py",
   "mimetype": "text/x-python",
   "name": "python",
   "nbconvert_exporter": "python",
   "pygments_lexer": "ipython3",
   "version": "3.8.8"
  }
 },
 "nbformat": 4,
 "nbformat_minor": 5
}
